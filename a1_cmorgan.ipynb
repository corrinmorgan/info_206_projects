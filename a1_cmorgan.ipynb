{
 "cells": [
  {
   "cell_type": "code",
   "execution_count": 2,
   "id": "7743f445",
   "metadata": {},
   "outputs": [],
   "source": [
    "#import drawSvg and save it as draw (for convenience)\n",
    "\n",
    "import drawSvg as draw"
   ]
  },
  {
   "cell_type": "code",
   "execution_count": 3,
   "id": "e3822d39",
   "metadata": {},
   "outputs": [],
   "source": [
    "#create a canvas thats 300x300 pixels\n",
    "\n",
    "d = draw.Drawing( 300, 300, origin = \"center\" )"
   ]
  },
  {
   "cell_type": "code",
   "execution_count": 4,
   "id": "c4e5d947",
   "metadata": {},
   "outputs": [],
   "source": [
    "#set all of the colors; make them variables so that you can change it. \n",
    "\n",
    "bg_color = \"navy\" \n",
    "#background circle color\n",
    "\n",
    "text_color = \"white\" \n",
    "#text color\n",
    "\n",
    "arc_color = \"gold\" \n",
    "#arc and accent color for outer stroke"
   ]
  },
  {
   "cell_type": "code",
   "execution_count": 5,
   "id": "2a766a20",
   "metadata": {},
   "outputs": [],
   "source": [
    "#set the background circle color\n",
    "\n",
    "d.append( draw.Circle( 0, 0, 100, fill=bg_color , stroke=arc_color , stroke_width=5 ) )"
   ]
  },
  {
   "cell_type": "code",
   "execution_count": 6,
   "id": "a7cd022c",
   "metadata": {},
   "outputs": [],
   "source": [
    "#draw the zero/power symbol in the center\n",
    "\n",
    "d.append( draw.Circle( 0, 0, 25, fill=bg_color, stroke=text_color, stroke_width=5 ) ) \n",
    "#creates the circle\n",
    "\n",
    "d.append( draw.Lines( 0, 12, 0, 37, stroke=text_color, stroke_width=5 ) )\n",
    "#creates the power symbol line\n",
    "\n",
    "d.append( draw.Lines( 5, 12, 5, 37, stroke=bg_color, stroke_width=5 ) )\n",
    "#creates the negative space on right of the line\n",
    "\n",
    "d.append( draw.Lines( -5, 12, -5, 37, stroke=bg_color, stroke_width=5 ) ) \n",
    "#creates the negative space on left of the line"
   ]
  },
  {
   "cell_type": "code",
   "execution_count": 7,
   "id": "bb7984c5",
   "metadata": {},
   "outputs": [],
   "source": [
    "#draw the upper arc\n",
    "\n",
    "upper_arc = draw.ArcLine( 0, 0, 50, 27, 150,\n",
    "            stroke=arc_color, stroke_width=2, fill=\"none\", fill_opacity=0.2 )\n",
    "\n",
    "d.append( upper_arc )\n",
    "\n",
    "# BELOW IS NOTES FOR MYSELF, ArcLine Variables:\n",
    "#          the first variable is the x axis of the center of the circle. \n",
    "#          the second variable is the y axis of the center of the circle.\n",
    "#          the third variable is the radius of the circle\n",
    "#          the fourth variable adjusts the right point\n",
    "#          the fifth variable adjusts the left point"
   ]
  },
  {
   "cell_type": "code",
   "execution_count": 8,
   "id": "528f6077",
   "metadata": {},
   "outputs": [],
   "source": [
    "#draw the invisible upper path (up) for text \"The Power Of\"\n",
    "\n",
    "up = draw.Path( stroke_width=2, stroke=bg_color, fill=\"none\" )\n",
    "up.M( -55, 27 )  # Start path at point (-10, 20)\n",
    "up.C( -7, 95, 42, 50, 55, 25 )  # Draw a curve to (55, 25)\n",
    "#the up.M and up.C functions are necessary set-up for draw.Path()\n",
    "\n",
    "d.append( up )"
   ]
  },
  {
   "cell_type": "code",
   "execution_count": 9,
   "id": "27e00d9f",
   "metadata": {},
   "outputs": [],
   "source": [
    "#draw the lower arc\n",
    "\n",
    "lower_arc = draw.ArcLine( 0, 0, 50, -150, -25,\n",
    "            stroke=arc_color, stroke_width=2, fill=\"none\", fill_opacity=0.2 )\n",
    "\n",
    "d.append( lower_arc )"
   ]
  },
  {
   "cell_type": "code",
   "execution_count": 10,
   "id": "4dd28e96",
   "metadata": {},
   "outputs": [],
   "source": [
    "#draw the lower path (LP but lowercase) for text \"Python\"\n",
    "\n",
    "lp = draw.Path( stroke_width=2, stroke=bg_color, fill=\"none\" )\n",
    "lp.M( -50, -25 )  # Start path at point (-50, -25)\n",
    "lp.C( -5, -90, 40, -40, 55, -25 )  # Draw a curve to (55, -25)\n",
    "#the lp.M and lp.C functions are necessary set-up for draw.Path()\n",
    "\n",
    "\n",
    "d.append( lp )"
   ]
  },
  {
   "cell_type": "code",
   "execution_count": 11,
   "id": "ba7b1876",
   "metadata": {},
   "outputs": [],
   "source": [
    "#add all of the text elements, the 2, the 6, \"the power of\", and \"python\"\n",
    "\n",
    "d.append( draw.Text( \"2\", 60, -70, -20, fill=text_color ) )\n",
    "#adds the number 2\n",
    "\n",
    "d.append( draw.Text( \"6\", 60, 40, -20, fill=text_color ) )\n",
    "#adds the number 6\n",
    "\n",
    "d.append( draw.Text( \"The Power Of\", 20, path=up, text_anchor=\"middle\", fill=text_color ) )\n",
    "#adds \"The Power Of\"\n",
    "\n",
    "d.append(draw.Text( \"Python\", 20, path=lp, text_anchor=\"middle\", valign=\"top\", fill=text_color ) )\n",
    "#adds \"Python\""
   ]
  },
  {
   "cell_type": "code",
   "execution_count": 12,
   "id": "d98fc1c5",
   "metadata": {},
   "outputs": [
    {
     "data": {
      "image/svg+xml": [
       "<?xml version=\"1.0\" encoding=\"UTF-8\"?>\n",
       "<svg xmlns=\"http://www.w3.org/2000/svg\" xmlns:xlink=\"http://www.w3.org/1999/xlink\"\n",
       "     width=\"300\" height=\"300\" viewBox=\"-150.0 -150.0 300 300\">\n",
       "<defs>\n",
       "<path d=\"M-55,-27 C-7,-95,42,-50,55,-25\" stroke-width=\"2\" stroke=\"navy\" fill=\"none\" id=\"d0\" />\n",
       "<path d=\"M-50,25 C-5,90,40,40,55,25\" stroke-width=\"2\" stroke=\"navy\" fill=\"none\" id=\"d1\" />\n",
       "</defs>\n",
       "<circle cx=\"0\" cy=\"0\" r=\"100\" fill=\"navy\" stroke=\"gold\" stroke-width=\"5\" />\n",
       "<circle cx=\"0\" cy=\"0\" r=\"25\" fill=\"navy\" stroke=\"white\" stroke-width=\"5\" />\n",
       "<path d=\"M0,-12 L0,-37\" stroke=\"white\" stroke-width=\"5\" />\n",
       "<path d=\"M5,-12 L5,-37\" stroke=\"navy\" stroke-width=\"5\" />\n",
       "<path d=\"M-5,-12 L-5,-37\" stroke=\"navy\" stroke-width=\"5\" />\n",
       "<circle cx=\"0\" cy=\"0\" r=\"50\" stroke-dasharray=\"107.33774899765127 206.82151636132807\" stroke-dashoffset=\"-183.2595714594046\" stroke=\"gold\" stroke-width=\"2\" fill=\"none\" fill-opacity=\"0.2\" />\n",
       "<use xlink:href=\"#d0\" />\n",
       "<circle cx=\"0\" cy=\"0\" r=\"50\" stroke-dasharray=\"109.08307824964561 205.07618710933372\" stroke-dashoffset=\"-21.81661564992912\" stroke=\"gold\" stroke-width=\"2\" fill=\"none\" fill-opacity=\"0.2\" />\n",
       "<use xlink:href=\"#d1\" />\n",
       "<text x=\"-70\" y=\"20\" font-size=\"60\" fill=\"white\" dy=\"0em\">2</text>\n",
       "<text x=\"40\" y=\"20\" font-size=\"60\" fill=\"white\" dy=\"0em\">6</text>\n",
       "<text font-size=\"20\" text-anchor=\"middle\" fill=\"white\"><textPath xlink:href=\"#d0\" startOffset=\"50%\">\n",
       "<tspan dy=\"0em\">The Power Of</tspan>\n",
       "</textPath></text>\n",
       "<text font-size=\"20\" text-anchor=\"middle\" fill=\"white\"><textPath xlink:href=\"#d1\" startOffset=\"50%\">\n",
       "<tspan dy=\"1em\">Python</tspan>\n",
       "</textPath></text>\n",
       "</svg>"
      ],
      "text/plain": [
       "<drawSvg.drawing.Drawing at 0x10705b010>"
      ]
     },
     "execution_count": 12,
     "metadata": {},
     "output_type": "execute_result"
    }
   ],
   "source": [
    "#show the final logo\n",
    "d"
   ]
  }
 ],
 "metadata": {
  "kernelspec": {
   "display_name": "Python 3 (ipykernel)",
   "language": "python",
   "name": "python3"
  },
  "language_info": {
   "codemirror_mode": {
    "name": "ipython",
    "version": 3
   },
   "file_extension": ".py",
   "mimetype": "text/x-python",
   "name": "python",
   "nbconvert_exporter": "python",
   "pygments_lexer": "ipython3",
   "version": "3.10.6"
  }
 },
 "nbformat": 4,
 "nbformat_minor": 5
}
