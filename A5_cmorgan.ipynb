{
 "cells": [
  {
   "cell_type": "code",
   "execution_count": 3,
   "id": "298e931f",
   "metadata": {},
   "outputs": [],
   "source": [
    "#import all of the packages\n",
    "import re\n",
    "import urllib.request\n",
    "from bs4 import BeautifulSoup\n",
    "from collections import deque\n",
    "import string"
   ]
  },
  {
   "cell_type": "code",
   "execution_count": 12,
   "id": "aa538ced",
   "metadata": {},
   "outputs": [],
   "source": [
    "#WEBCRAWLER FUNCTION\n",
    "\n",
    "def webCrawler():\n",
    "\n",
    "    #define the starting location and create the deque:\n",
    "    starting_link = \"https://people.ischool.berkeley.edu/~chuang/i206/b5/index.html\"\n",
    "    html_shortcode = re.compile(r'https://people.ischool.berkeley.edu/~chuang/i206/b5/(.*)')\n",
    "    queue = deque(html_shortcode.findall(starting_link))\n",
    "\n",
    "    #save the rest of the link to concatenate later\n",
    "    link_base = \"https://people.ischool.berkeley.edu/~chuang/i206/b5/\"\n",
    "    links = re.compile(r'<a href=\"(.*?)\">')\n",
    "\n",
    "    #count the pages being crawled (iterate through the deque)\n",
    "    count = 0\n",
    "    all_links = 0 #don't have to include index.html as the first page as a link. \n",
    "\n",
    "    #the meat\n",
    "    while True:\n",
    "        #open each web page in the deque and read it. \n",
    "        webUrl = urllib.request.urlopen(link_base+queue[count])\n",
    "        data = webUrl.read()\n",
    "\n",
    "        #find the links\n",
    "        found_links = links.findall(str(data))\n",
    "\n",
    "        #add the count of the links found to the running links\n",
    "        all_links += len(found_links)\n",
    "\n",
    "        #for each of the links found on this page\n",
    "        for i in range(0,len(found_links)):\n",
    "            \n",
    "            #if the link is not in the deque, add it \n",
    "            if found_links[i] not in queue:\n",
    "                queue.append(found_links[i])\n",
    "\n",
    "        #iterate the counter\n",
    "        count+=1\n",
    "\n",
    "        #if the count is now longer than the queue, then break out\n",
    "        if count+1 > len(queue):\n",
    "            break\n",
    "    \n",
    "    #return the list of pages, the number of pages crawled, the number of unique links found and the total number of links (non-unique)\n",
    "    return \"List of Pages: \", queue, \"Pages Crawled: \", (count), \"Total Number of Unique Links Found: \", len(queue), \"Total Links (non-unique): \", all_links\n",
    "\n",
    "    \n",
    "\n",
    "    \n"
   ]
  },
  {
   "cell_type": "code",
   "execution_count": 13,
   "id": "ca5f6590",
   "metadata": {},
   "outputs": [
    {
     "name": "stdout",
     "output_type": "stream",
     "text": [
      "('List of Pages: ', deque(['index.html', 'information.html', 'Berkeley.html', 'ISchool.html', 'MIMS.html', 'CityOfBerkeley.html', 'UCBerkeley.html', 'BerkeleyCollege.html', 'SouthHall.html', 'Campanile.html']), 'Pages Crawled: ', 10, 'Total Number of Unique Links Found: ', 10, 'Total Links (non-unique): ', 22)\n",
      "deque(['index.html', 'information.html', 'Berkeley.html', 'ISchool.html', 'MIMS.html', 'CityOfBerkeley.html', 'UCBerkeley.html', 'BerkeleyCollege.html', 'SouthHall.html', 'Campanile.html'])\n"
     ]
    }
   ],
   "source": [
    "#print the answer\n",
    "answer = webCrawler()\n",
    "print(answer)\n",
    "\n",
    "#save the deque data separately from the string\n",
    "deque_data = answer[1]\n",
    "print(deque_data)"
   ]
  },
  {
   "cell_type": "code",
   "execution_count": 14,
   "id": "ff0d6b54",
   "metadata": {},
   "outputs": [],
   "source": [
    "#webCrawlIndexer Function\n",
    "\n",
    "def webCrawlIndexer(deque_data):\n",
    "    #create the dictionary\n",
    "    index = {}\n",
    "\n",
    "    #save the link base\n",
    "    link_base = \"https://people.ischool.berkeley.edu/~chuang/i206/b5/\"\n",
    "\n",
    "    #pull the text from the document and clean it.\n",
    "    for i in range(0,len(deque_data)):\n",
    "        link = str(deque_data[i])\n",
    "        webUrl = urllib.request.urlopen(str(link_base)+link)\n",
    "        doc = BeautifulSoup(webUrl.read(),\"html.parser\")\n",
    "        text = doc.get_text().split()\n",
    "        for j in range(0,len(text)):\n",
    "            word = text[j]\n",
    "            word = word.translate(str.maketrans('\\n',' ', string.punctuation)).lower()\n",
    "\n",
    "    #with the cleaned words listed if it's in the dictionary\n",
    "            if word in index:\n",
    "                \n",
    "                #save the values for that word key\n",
    "                values_list = index[word]\n",
    "\n",
    "                #if the link is already there, skip it\n",
    "                if link in values_list:\n",
    "                    continue\n",
    "\n",
    "                #if the link is not there, add it to the values list and update the dictionary pairing\n",
    "                else:\n",
    "                    values_list.append(link)\n",
    "                    index.update({word:values_list})\n",
    "\n",
    "    #if the cleaned word is not in the dictionary\n",
    "            else:\n",
    "\n",
    "                #create a list to create the key value pair and add the link\n",
    "                values_list = []\n",
    "                values_list.append(link)\n",
    "                index[word] = values_list\n",
    "                \n",
    "    #print length of the index and save the dictionary to whatever variable the function is set to:\n",
    "    print(\"The index contains \"+str(len(index))+ \" words.\")\n",
    "    return index"
   ]
  },
  {
   "cell_type": "code",
   "execution_count": 16,
   "id": "71c2cafb",
   "metadata": {},
   "outputs": [
    {
     "name": "stdout",
     "output_type": "stream",
     "text": [
      "The index contains 461 words.\n",
      "{'206': ['index.html'], 'crawler': ['index.html'], 'home': ['index.html', 'information.html', 'Berkeley.html', 'ISchool.html', 'MIMS.html', 'CityOfBerkeley.html', 'UCBerkeley.html', 'BerkeleyCollege.html', 'SouthHall.html', 'Campanile.html'], 'page': ['index.html', 'information.html'], 'the': ['index.html', 'information.html', 'ISchool.html', 'MIMS.html', 'CityOfBerkeley.html', 'UCBerkeley.html', 'BerkeleyCollege.html', 'SouthHall.html', 'Campanile.html'], 'where': ['index.html'], 'any': ['index.html', 'UCBerkeley.html'], 'information': ['index.html', 'information.html', 'ISchool.html', 'MIMS.html'], 'can': ['index.html', 'Berkeley.html'], 'be': ['index.html', 'Berkeley.html'], 'found': ['index.html'], 'is': ['index.html', 'ISchool.html', 'MIMS.html', 'CityOfBerkeley.html', 'UCBerkeley.html', 'BerkeleyCollege.html', 'SouthHall.html', 'Campanile.html'], 'homepage': ['index.html'], 'your': ['index.html'], 'will': ['index.html'], 'start': ['index.html'], 'follow': ['index.html'], 'links': ['index.html'], 'to': ['index.html', 'information.html', 'Berkeley.html', 'ISchool.html', 'MIMS.html', 'CityOfBerkeley.html', 'UCBerkeley.html', 'SouthHall.html', 'Campanile.html'], 'discover': ['index.html'], 'whats': ['index.html'], 'on': ['index.html', 'CityOfBerkeley.html', 'UCBerkeley.html', 'SouthHall.html', 'Campanile.html'], 'site': ['index.html', 'CityOfBerkeley.html'], 'there': ['information.html'], 'are': ['information.html', 'MIMS.html', 'UCBerkeley.html', 'Campanile.html'], 'many': ['information.html'], 'great': ['information.html'], 'things': ['information.html', 'Berkeley.html'], 'learn': ['information.html'], 'about': ['information.html', 'ISchool.html', 'SouthHall.html', 'Campanile.html'], 'here': ['information.html'], 'berkeley': ['information.html', 'Berkeley.html', 'ISchool.html', 'CityOfBerkeley.html', 'UCBerkeley.html', 'BerkeleyCollege.html'], 'uc': ['information.html', 'Berkeley.html', 'ISchool.html', 'UCBerkeley.html'], 'school': ['information.html', 'ISchool.html', 'MIMS.html', 'BerkeleyCollege.html'], 'of': ['information.html', 'ISchool.html', 'MIMS.html', 'CityOfBerkeley.html', 'UCBerkeley.html', 'BerkeleyCollege.html', 'SouthHall.html', 'Campanile.html'], 'masters': ['information.html', 'MIMS.html'], 'management': ['information.html', 'ISchool.html', 'MIMS.html', 'BerkeleyCollege.html'], 'and': ['information.html', 'ISchool.html', 'MIMS.html', 'CityOfBerkeley.html', 'UCBerkeley.html', 'BerkeleyCollege.html', 'SouthHall.html', 'Campanile.html'], 'systems': ['information.html', 'ISchool.html', 'MIMS.html'], 'degree': ['information.html', 'ISchool.html', 'MIMS.html', 'UCBerkeley.html', 'BerkeleyCollege.html'], 'which': ['Berkeley.html', 'CityOfBerkeley.html', 'UCBerkeley.html'], 'refers': ['Berkeley.html'], 'a': ['Berkeley.html', 'ISchool.html', 'MIMS.html', 'CityOfBerkeley.html', 'UCBerkeley.html', 'BerkeleyCollege.html', 'Campanile.html'], 'few': ['Berkeley.html'], 'different': ['Berkeley.html'], 'you': ['Berkeley.html'], 'more': ['Berkeley.html', 'UCBerkeley.html', 'Campanile.html'], 'specific': ['Berkeley.html'], 'california': ['Berkeley.html', 'ISchool.html', 'CityOfBerkeley.html', 'UCBerkeley.html', 'SouthHall.html'], 'college': ['Berkeley.html', 'UCBerkeley.html', 'BerkeleyCollege.html', 'Campanile.html'], 'or': ['ISchool.html', 'UCBerkeley.html'], 'i': ['ISchool.html', 'MIMS.html'], 'graduate': ['ISchool.html', 'CityOfBerkeley.html', 'UCBerkeley.html'], 'offering': ['ISchool.html'], 'mims': ['ISchool.html', 'MIMS.html'], 'in': ['ISchool.html', 'MIMS.html', 'CityOfBerkeley.html', 'UCBerkeley.html', 'BerkeleyCollege.html', 'SouthHall.html', 'Campanile.html'], 'addition': ['ISchool.html'], 'mids': ['ISchool.html'], 'mics': ['ISchool.html'], 'degrees': ['ISchool.html', 'BerkeleyCollege.html'], 'researchoriented': ['ISchool.html'], 'phd': ['ISchool.html'], 'at': ['ISchool.html', 'MIMS.html', 'CityOfBerkeley.html'], 'university': ['ISchool.html', 'CityOfBerkeley.html', 'UCBerkeley.html', 'SouthHall.html'], 'created': ['ISchool.html'], '1994': ['ISchool.html'], 'berkeleys': ['ISchool.html', 'UCBerkeley.html'], 'newest': ['ISchool.html'], 'it': ['ISchool.html', 'CityOfBerkeley.html', 'UCBerkeley.html', 'SouthHall.html', 'Campanile.html'], 'was': ['ISchool.html', 'CityOfBerkeley.html', 'SouthHall.html', 'Campanile.html'], 'previously': ['ISchool.html'], 'known': ['ISchool.html', 'SouthHall.html', 'Campanile.html'], 'as': ['ISchool.html', 'MIMS.html', 'CityOfBerkeley.html', 'UCBerkeley.html', 'SouthHall.html', 'Campanile.html'], 'sims': ['ISchool.html'], 'until': ['ISchool.html'], '2006': ['ISchool.html'], 'its': ['ISchool.html', 'UCBerkeley.html', 'Campanile.html'], 'roots': ['ISchool.html'], 'trace': ['ISchool.html'], 'back': ['ISchool.html'], 'librarianship': ['ISchool.html'], 'founded': ['ISchool.html', 'UCBerkeley.html', 'BerkeleyCollege.html'], '1920s': ['ISchool.html'], 'program': ['ISchool.html', 'MIMS.html'], 'located': ['ISchool.html', 'UCBerkeley.html', 'SouthHall.html'], 'south': ['ISchool.html', 'CityOfBerkeley.html', 'SouthHall.html'], 'hall': ['ISchool.html', 'SouthHall.html'], 'near': ['ISchool.html', 'SouthHall.html'], 'sather': ['ISchool.html', 'SouthHall.html', 'Campanile.html'], 'tower': ['ISchool.html', 'SouthHall.html', 'Campanile.html'], 'center': ['ISchool.html'], 'campus': ['ISchool.html', 'UCBerkeley.html', 'SouthHall.html', 'Campanile.html'], 'master': ['MIMS.html', 'Campanile.html'], '': ['MIMS.html'], '48': ['MIMS.html'], 'unit': ['MIMS.html'], 'twoyear': ['MIMS.html'], 'designed': ['MIMS.html', 'Campanile.html'], 'train': ['MIMS.html'], 'students': ['MIMS.html', 'UCBerkeley.html'], 'for': ['MIMS.html', 'UCBerkeley.html', 'SouthHall.html'], 'careers': ['MIMS.html'], 'professionals': ['MIMS.html'], 'who': ['MIMS.html', 'SouthHall.html'], 'complete': ['MIMS.html'], 'awarded': ['MIMS.html'], 'during': ['MIMS.html'], 'first': ['MIMS.html', 'Campanile.html'], 'year': ['MIMS.html'], 'take': ['MIMS.html'], 'range': ['MIMS.html', 'UCBerkeley.html'], 'required': ['MIMS.html'], 'elective': ['MIMS.html'], 'courses': ['MIMS.html', 'BerkeleyCollege.html'], 'second': ['MIMS.html'], 'may': ['MIMS.html'], 'choose': ['MIMS.html'], 'from': ['MIMS.html'], 'both': ['MIMS.html', 'UCBerkeley.html'], 'other': ['MIMS.html', 'UCBerkeley.html'], 'departments': ['MIMS.html'], 'final': ['MIMS.html'], 'requirement': ['MIMS.html'], 'completion': ['MIMS.html'], 'capstone': ['MIMS.html'], 'project': ['MIMS.html'], 'city': ['CityOfBerkeley.html'], 'east': ['CityOfBerkeley.html'], 'shore': ['CityOfBerkeley.html'], 'san': ['CityOfBerkeley.html', 'UCBerkeley.html', 'Campanile.html'], 'francisco': ['CityOfBerkeley.html', 'UCBerkeley.html'], 'bay': ['CityOfBerkeley.html', 'UCBerkeley.html'], 'northern': ['CityOfBerkeley.html'], 'california—in': ['CityOfBerkeley.html'], 'alameda': ['CityOfBerkeley.html'], 'county': ['CityOfBerkeley.html'], 'bordered': ['CityOfBerkeley.html'], 'by': ['CityOfBerkeley.html', 'SouthHall.html', 'Campanile.html'], 'cities': ['CityOfBerkeley.html'], 'oakland': ['CityOfBerkeley.html', 'UCBerkeley.html'], 'emeryville': ['CityOfBerkeley.html'], 'north': ['CityOfBerkeley.html'], 'albany': ['CityOfBerkeley.html'], 'unincorporated': ['CityOfBerkeley.html'], 'community': ['CityOfBerkeley.html'], 'kensington': ['CityOfBerkeley.html'], 'eastern': ['CityOfBerkeley.html', 'UCBerkeley.html'], 'limit': ['CityOfBerkeley.html'], 'coincides': ['CityOfBerkeley.html'], 'with': ['CityOfBerkeley.html', 'UCBerkeley.html', 'Campanile.html'], 'contra': ['CityOfBerkeley.html'], 'costa': ['CityOfBerkeley.html'], 'border': ['CityOfBerkeley.html'], 'generally': ['CityOfBerkeley.html'], 'follows': ['CityOfBerkeley.html'], 'ridge': ['CityOfBerkeley.html'], 'line': ['CityOfBerkeley.html'], 'hills': ['CityOfBerkeley.html'], 'population': ['CityOfBerkeley.html'], '112580': ['CityOfBerkeley.html'], '2010': ['CityOfBerkeley.html'], 'census': ['CityOfBerkeley.html'], 'named': ['CityOfBerkeley.html'], 'after': ['CityOfBerkeley.html'], 'bishop': ['CityOfBerkeley.html'], 'george': ['CityOfBerkeley.html'], 'oldest': ['CityOfBerkeley.html', 'UCBerkeley.html', 'SouthHall.html'], 'system': ['CityOfBerkeley.html', 'UCBerkeley.html', 'SouthHall.html'], 'lawrence': ['CityOfBerkeley.html', 'UCBerkeley.html'], 'national': ['CityOfBerkeley.html', 'UCBerkeley.html'], 'laboratory': ['CityOfBerkeley.html', 'UCBerkeley.html'], 'also': ['CityOfBerkeley.html', 'UCBerkeley.html', 'SouthHall.html'], 'theological': ['CityOfBerkeley.html'], 'union': ['CityOfBerkeley.html'], 'noted': ['CityOfBerkeley.html'], 'one': ['CityOfBerkeley.html', 'UCBerkeley.html'], 'most': ['CityOfBerkeley.html'], 'politically': ['CityOfBerkeley.html'], 'liberal': ['CityOfBerkeley.html', 'BerkeleyCollege.html'], 'nation': ['CityOfBerkeley.html', 'UCBerkeley.html'], 'referred': ['UCBerkeley.html'], 'simply': ['UCBerkeley.html'], 'cal': ['UCBerkeley.html'], 'public': ['UCBerkeley.html', 'Campanile.html'], 'research': ['UCBerkeley.html'], 'united': ['UCBerkeley.html'], 'states': ['UCBerkeley.html'], 'occupies': ['UCBerkeley.html'], '1232': ['UCBerkeley.html'], 'acres': ['UCBerkeley.html'], '499': ['UCBerkeley.html'], 'ha': ['UCBerkeley.html'], 'side': ['UCBerkeley.html'], 'central': ['UCBerkeley.html'], 'resting': ['UCBerkeley.html'], '178': ['UCBerkeley.html'], '72': ['UCBerkeley.html'], 'flagship': ['UCBerkeley.html'], 'institution': ['UCBerkeley.html', 'BerkeleyCollege.html'], '10': ['UCBerkeley.html'], 'only': ['UCBerkeley.html'], 'two': ['UCBerkeley.html'], 'campuses': ['UCBerkeley.html'], 'operating': ['UCBerkeley.html'], 'semester': ['UCBerkeley.html'], 'calendar': ['UCBerkeley.html'], 'being': ['UCBerkeley.html'], 'merced': ['UCBerkeley.html'], 'established': ['UCBerkeley.html'], '1868': ['UCBerkeley.html'], 'result': ['UCBerkeley.html'], 'merger': ['UCBerkeley.html'], 'private': ['UCBerkeley.html'], 'agricultural': ['UCBerkeley.html'], 'mining': ['UCBerkeley.html'], 'mechanical': ['UCBerkeley.html'], 'arts': ['UCBerkeley.html', 'BerkeleyCollege.html'], 'offers': ['UCBerkeley.html', 'BerkeleyCollege.html'], 'approximately': ['UCBerkeley.html'], '350': ['UCBerkeley.html'], 'undergraduate': ['UCBerkeley.html'], 'programs': ['UCBerkeley.html', 'BerkeleyCollege.html'], 'wide': ['UCBerkeley.html'], 'disciplines': ['UCBerkeley.html'], 'has': ['UCBerkeley.html', 'Campanile.html'], 'been': ['UCBerkeley.html', 'Campanile.html'], 'charged': ['UCBerkeley.html'], 'providing': ['UCBerkeley.html'], 'classical': ['UCBerkeley.html'], 'practical': ['UCBerkeley.html'], 'education': ['UCBerkeley.html', 'BerkeleyCollege.html'], 'people': ['UCBerkeley.html'], 'comanages': ['UCBerkeley.html'], 'three': ['UCBerkeley.html'], 'department': ['UCBerkeley.html'], 'energy': ['UCBerkeley.html'], 'laboratories': ['UCBerkeley.html'], 'including': ['UCBerkeley.html', 'BerkeleyCollege.html'], 'los': ['UCBerkeley.html'], 'alamos': ['UCBerkeley.html'], 'livermore': ['UCBerkeley.html'], 'us': ['UCBerkeley.html'], 'among': ['UCBerkeley.html'], 'alumni': ['UCBerkeley.html'], 'faculty': ['UCBerkeley.html'], 'researchers': ['UCBerkeley.html'], 'nobel': ['UCBerkeley.html'], 'laureates': ['UCBerkeley.html'], '110': ['UCBerkeley.html'], 'turing': ['UCBerkeley.html'], 'award': ['UCBerkeley.html'], 'winners': ['UCBerkeley.html'], '25': ['UCBerkeley.html'], 'fields': ['UCBerkeley.html'], 'medalists': ['UCBerkeley.html'], '14': ['UCBerkeley.html'], 'wolf': ['UCBerkeley.html'], 'prize': ['UCBerkeley.html'], '30': ['UCBerkeley.html'], 'than': ['UCBerkeley.html'], 'affiliated': ['UCBerkeley.html'], '34': ['UCBerkeley.html'], 'pulitzer': ['UCBerkeley.html'], 'prizes': ['UCBerkeley.html'], '19': ['UCBerkeley.html'], 'academy': ['UCBerkeley.html'], 'awards': ['UCBerkeley.html'], 'macarthur': ['UCBerkeley.html'], 'genius': ['UCBerkeley.html'], 'grants': ['UCBerkeley.html'], '108': ['UCBerkeley.html'], 'medals': ['UCBerkeley.html'], 'science': ['UCBerkeley.html'], '68': ['UCBerkeley.html'], 'date': ['UCBerkeley.html'], 'associated': ['UCBerkeley.html'], '6': ['UCBerkeley.html'], 'chemical': ['UCBerkeley.html'], 'elements': ['UCBerkeley.html'], 'periodic': ['UCBerkeley.html'], 'table': ['UCBerkeley.html'], 'californium': ['UCBerkeley.html'], 'seaborgium': ['UCBerkeley.html'], 'berkelium': ['UCBerkeley.html'], 'einsteinium': ['UCBerkeley.html'], 'fermium': ['UCBerkeley.html'], 'lawrencium': ['UCBerkeley.html'], 'lab': ['UCBerkeley.html'], 'discovered': ['UCBerkeley.html'], '16': ['UCBerkeley.html'], 'total': ['UCBerkeley.html'], '–': ['UCBerkeley.html'], 'world': ['UCBerkeley.html', 'Campanile.html'], 'produced': ['UCBerkeley.html'], 'seven': ['UCBerkeley.html', 'Campanile.html'], 'heads': ['UCBerkeley.html'], 'state': ['UCBerkeley.html'], 'government': ['UCBerkeley.html'], 'six': ['UCBerkeley.html'], 'chief': ['UCBerkeley.html'], 'justices': ['UCBerkeley.html'], 'justice': ['UCBerkeley.html', 'BerkeleyCollege.html'], 'earl': ['UCBerkeley.html'], 'warren': ['UCBerkeley.html'], '22': ['UCBerkeley.html'], 'cabinetlevel': ['UCBerkeley.html'], 'officials': ['UCBerkeley.html'], '11': ['UCBerkeley.html'], 'governors': ['UCBerkeley.html'], 'living': ['UCBerkeley.html'], 'billionaires': ['UCBerkeley.html'], 'leading': ['UCBerkeley.html'], 'producer': ['UCBerkeley.html'], 'fulbright': ['UCBerkeley.html'], 'scholars': ['UCBerkeley.html'], 'fellows': ['UCBerkeley.html'], 'marshall': ['UCBerkeley.html'], 'widely': ['UCBerkeley.html'], 'recognized': ['UCBerkeley.html'], 'their': ['UCBerkeley.html'], 'entrepreneurship': ['UCBerkeley.html', 'BerkeleyCollege.html'], 'have': ['UCBerkeley.html', 'SouthHall.html'], 'numerous': ['UCBerkeley.html'], 'notable': ['UCBerkeley.html'], 'companies': ['UCBerkeley.html'], 'apple': ['UCBerkeley.html'], 'tesla': ['UCBerkeley.html'], 'intel': ['UCBerkeley.html'], 'ebay': ['UCBerkeley.html'], 'softbank': ['UCBerkeley.html'], 'aig': ['UCBerkeley.html'], 'morgan': ['UCBerkeley.html'], 'stanley': ['UCBerkeley.html'], 'athletic': ['UCBerkeley.html'], 'teams': ['UCBerkeley.html'], 'compete': ['UCBerkeley.html'], 'golden': ['UCBerkeley.html'], 'bears': ['UCBerkeley.html'], 'primarily': ['UCBerkeley.html'], 'pac12': ['UCBerkeley.html'], 'conference': ['UCBerkeley.html'], 'won': ['UCBerkeley.html'], '107': ['UCBerkeley.html'], 'championships': ['UCBerkeley.html'], '223': ['UCBerkeley.html'], 'olympic': ['UCBerkeley.html'], '121': ['UCBerkeley.html'], 'gold': ['UCBerkeley.html'], 'higher': ['BerkeleyCollege.html'], '1931': ['BerkeleyCollege.html'], 'specializing': ['BerkeleyCollege.html'], 'business': ['BerkeleyCollege.html'], 'professional': ['BerkeleyCollege.html'], 'studies': ['BerkeleyCollege.html'], 'associates': ['BerkeleyCollege.html'], 'bachelors': ['BerkeleyCollege.html'], 'provides': ['BerkeleyCollege.html'], 'academic': ['BerkeleyCollege.html'], 'administration': ['BerkeleyCollege.html'], 'general': ['BerkeleyCollege.html'], 'accounting': ['BerkeleyCollege.html'], 'financial': ['BerkeleyCollege.html'], 'services': ['BerkeleyCollege.html'], 'marketing': ['BerkeleyCollege.html'], 'communications': ['BerkeleyCollege.html'], 'concentrations': ['BerkeleyCollege.html'], 'environmental': ['BerkeleyCollege.html', 'Campanile.html'], 'nonprofit': ['BerkeleyCollege.html'], 'human': ['BerkeleyCollege.html'], 'resources': ['BerkeleyCollege.html'], 'international': ['BerkeleyCollege.html'], 'fashion': ['BerkeleyCollege.html'], 'through': ['BerkeleyCollege.html'], 'larry': ['BerkeleyCollege.html'], 'l': ['BerkeleyCollege.html'], 'luing': ['BerkeleyCollege.html'], 'health': ['BerkeleyCollege.html'], 'criminal': ['BerkeleyCollege.html'], 'legal': ['BerkeleyCollege.html'], 'graphic': ['BerkeleyCollege.html'], 'design': ['BerkeleyCollege.html', 'Campanile.html'], 'interior': ['BerkeleyCollege.html'], 'humanities': ['BerkeleyCollege.html'], 'mathematicsscience': ['BerkeleyCollege.html'], 'social': ['BerkeleyCollege.html'], 'sciences': ['BerkeleyCollege.html'], 'english': ['BerkeleyCollege.html'], 'foreign': ['BerkeleyCollege.html'], 'languages': ['BerkeleyCollege.html'], 'built': ['SouthHall.html'], '1873': ['SouthHall.html'], 'building': ['SouthHall.html'], 'heart': ['SouthHall.html'], 'doe': ['SouthHall.html'], 'library': ['SouthHall.html'], 'campanile': ['SouthHall.html', 'Campanile.html'], 'smallest': ['SouthHall.html'], 'bear': ['SouthHall.html'], 'statue': ['SouthHall.html'], 'small': ['SouthHall.html'], 'added': ['SouthHall.html'], 'michael': ['SouthHall.html'], 'h': ['SouthHall.html'], 'casey': ['SouthHall.html'], 'did': ['SouthHall.html'], 'ornamental': ['SouthHall.html'], 'castings': ['SouthHall.html'], 'restored': ['SouthHall.html'], 'facade': ['SouthHall.html'], '1997': ['SouthHall.html'], 'aka': ['Campanile.html'], 'bell': ['Campanile.html'], 'clock': ['Campanile.html'], 'commonly': ['Campanile.html'], 'due': ['Campanile.html'], 'resemblance': ['Campanile.html'], 'di': ['Campanile.html'], 'marco': ['Campanile.html'], 'venice': ['Campanile.html'], 'completed': ['Campanile.html'], '1914': ['Campanile.html'], 'opened': ['Campanile.html'], '1917': ['Campanile.html'], 'stands': ['Campanile.html'], '307': ['Campanile.html'], 'feet': ['Campanile.html'], '936': ['Campanile.html'], 'm': ['Campanile.html'], 'tall': ['Campanile.html'], 'making': ['Campanile.html'], 'third': ['Campanile.html'], 'tallest': ['Campanile.html'], 'clocktower': ['Campanile.html'], 'john': ['Campanile.html'], 'galen': ['Campanile.html'], 'howard': ['Campanile.html'], 'founder': ['Campanile.html'], 'marks': ['Campanile.html'], 'secondary': ['Campanile.html'], 'axis': ['Campanile.html'], 'his': ['Campanile.html'], 'original': ['Campanile.html'], 'beauxarts': ['Campanile.html'], 'plan': ['Campanile.html'], 'since': ['Campanile.html'], 'then': ['Campanile.html'], 'major': ['Campanile.html'], 'point': ['Campanile.html'], 'orientation': ['Campanile.html'], 'almost': ['Campanile.html'], 'every': ['Campanile.html'], 'floors': ['Campanile.html'], 'an': ['Campanile.html'], 'observation': ['Campanile.html'], 'deck': ['Campanile.html'], 'eighth': ['Campanile.html'], 'floor': ['Campanile.html'], 'some': ['Campanile.html'], 'used': ['Campanile.html'], 'store': ['Campanile.html'], 'fossils': ['Campanile.html']}\n"
     ]
    }
   ],
   "source": [
    "#execute the function\n",
    "dict = webCrawlIndexer(deque_data)\n",
    "\n",
    "#show the dictionary\n",
    "print(dict)"
   ]
  },
  {
   "cell_type": "code",
   "execution_count": 26,
   "id": "44ef5f41",
   "metadata": {},
   "outputs": [],
   "source": [
    "#Search Query Interface\n",
    "\n",
    "def SearchQueryInterface():\n",
    "    #set the value \n",
    "    query = None\n",
    "    \n",
    "    while query != \"q\":\n",
    "        #take the user input\n",
    "        query = str(input(\"What word would you like to search for? \\n Enter q to quit.\"))\n",
    "\n",
    "        #clean it\n",
    "        query = query.translate(str.maketrans('\\n',' ', string.punctuation)).lower()\n",
    "\n",
    "        #if it's in the dictionary, print the values\n",
    "        if query in dict.keys():\n",
    "            print(\"The term '\"+str(query)+\"' is found in the following pages: \\n\" + str(dict[str(query)]))\n",
    "\n",
    "        #if they quit, break the loop\n",
    "        if query == \"q\":\n",
    "            break\n",
    "\n",
    "        #if it's not in the dictionary, print that there are no results. \n",
    "        if query not in dict.keys():\n",
    "            print(\"No Results Found\")"
   ]
  },
  {
   "cell_type": "code",
   "execution_count": 27,
   "id": "c70f582e",
   "metadata": {},
   "outputs": [
    {
     "name": "stdout",
     "output_type": "stream",
     "text": [
      "The term 'the' is found in the following pages: \n",
      "['index.html', 'information.html', 'ISchool.html', 'MIMS.html', 'CityOfBerkeley.html', 'UCBerkeley.html', 'BerkeleyCollege.html', 'SouthHall.html', 'Campanile.html']\n",
      "No Results Found\n",
      "The term 'any' is found in the following pages: \n",
      "['index.html', 'UCBerkeley.html']\n",
      "The term 'berkeley' is found in the following pages: \n",
      "['information.html', 'Berkeley.html', 'ISchool.html', 'CityOfBerkeley.html', 'UCBerkeley.html', 'BerkeleyCollege.html']\n",
      "No Results Found\n",
      "The term 'many' is found in the following pages: \n",
      "['information.html']\n",
      "The term 'many' is found in the following pages: \n",
      "['information.html']\n"
     ]
    }
   ],
   "source": [
    "#Test the Search Query Interface:\n",
    "SearchQueryInterface()"
   ]
  }
 ],
 "metadata": {
  "kernelspec": {
   "display_name": "Python 3.10.6 64-bit",
   "language": "python",
   "name": "python3"
  },
  "language_info": {
   "codemirror_mode": {
    "name": "ipython",
    "version": 3
   },
   "file_extension": ".py",
   "mimetype": "text/x-python",
   "name": "python",
   "nbconvert_exporter": "python",
   "pygments_lexer": "ipython3",
   "version": "3.10.6"
  },
  "vscode": {
   "interpreter": {
    "hash": "aee8b7b246df8f9039afb4144a1f6fd8d2ca17a180786b69acc140d282b71a49"
   }
  }
 },
 "nbformat": 4,
 "nbformat_minor": 5
}
