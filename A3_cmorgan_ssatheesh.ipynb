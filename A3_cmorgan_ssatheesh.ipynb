{
 "cells": [
  {
   "cell_type": "markdown",
   "id": "a18a646b",
   "metadata": {},
   "source": [
    "# QUESTION 1\n",
    "Q1. (6 points) Implement a movie recommendation function using Algorithm 1. The function reads input data from two files: movies.csv  Download movies.csvand ratings.csv  Download ratings.csv, and for a given user, it will print the number of movies not yet watched by the user. It will then return a ranked list of the top five movies not yet watched by the user, along with their average ratings and the number of ratings. If the user has fewer than five unwatched movies, then it will return fewer than five movies. If the username is unknown, the program assumes that this is a new user who hasn’t watched any of the movies, and returns the global top five rated movies. "
   ]
  },
  {
   "cell_type": "code",
   "execution_count": 1,
   "id": "534bd83b",
   "metadata": {},
   "outputs": [],
   "source": [
    "#STEP 1: IMPORTING THE CSV FILES AND APPENDING THEIR CONTENT TO LISTS\n",
    "\n",
    "#import the movies document\n",
    "import csv\n",
    "movie_titles = open(\"movies.csv\",\"r\")\n",
    "m_csvdata = csv.reader(movie_titles)\n",
    "movie_titles_list = []\n",
    "\n",
    "for row in m_csvdata:\n",
    "    movie_titles_list.append(row)\n",
    "    \n",
    "# movie_titles_list\n",
    "movie_titles.close()\n",
    "\n",
    "#import the ratings document\n",
    "import csv\n",
    "movie_ratings = open(\"ratings.csv\",\"r\")\n",
    "r_csvdata = csv.reader(movie_ratings)\n",
    "movie_ratings_list = [] \n",
    "\n",
    "for row in r_csvdata:\n",
    "    movie_ratings_list.append(row)\n",
    "    \n",
    "#movie_ratings_list \n",
    "movie_ratings.close()"
   ]
  },
  {
   "cell_type": "code",
   "execution_count": 2,
   "id": "8063b751",
   "metadata": {
    "scrolled": true
   },
   "outputs": [],
   "source": [
    "#STEP 2: CONVERT THE NUMBER VALUES IN RATINGS DOC TO INTEGERS\n",
    "\n",
    "for row in movie_ratings_list:\n",
    "    for i in range(1,63): #using 1 to avoid the 0th index which are the names (strings)\n",
    "        row[i] = int(row[i])\n",
    "        \n",
    "#movie_ratings_list"
   ]
  },
  {
   "cell_type": "code",
   "execution_count": 3,
   "id": "6878a30a",
   "metadata": {},
   "outputs": [],
   "source": [
    "#STEP 3: IMPORT NUMPY AND CONVERT LISTS TO ARRAYS TO ACCESS THE COLUMNS\n",
    "\n",
    "#import numpy\n",
    "import numpy as np\n",
    "\n",
    "#converting the lists to arrays\n",
    "mtitles = np.array(movie_titles_list)\n",
    "rsheet = np.array(movie_ratings_list, dtype=object)\n",
    "\n",
    "#mtitles\n",
    "#rsheet "
   ]
  },
  {
   "cell_type": "markdown",
   "id": "69ef9baf",
   "metadata": {},
   "source": [
    "# ALGORITHM 1(A) \n",
    "\n",
    "First for each movie, compute its average rating by users who have rated the movie. Exclude the zero scores by users who have not seen the movie. "
   ]
  },
  {
   "cell_type": "code",
   "execution_count": 4,
   "id": "0d33391a",
   "metadata": {},
   "outputs": [],
   "source": [
    "#STEP 4: CALCULATE THE AVERAGE RATINGS FOR EACH MOVIE EXCLUDING ZEROS\n",
    "\n",
    "#initialize the variables:\n",
    "sum_m=0           #tally of all the points for a movie\n",
    "i=0               #iterating variable\n",
    "count=0           #count of the number of ratings (non-zeros)\n",
    "vote_count=[]     #list to append the number of ratings\n",
    "score=[]          #list to append the total numbers (unnecessary, just for checking)\n",
    "avgratings=[]     #list to append the calculated average rating for the movie\n",
    "\n",
    "for j in range(1,63):                       #starting at one to avoid the names!\n",
    "    movie_score=list(rsheet[:,j])           #pull the ratings for each movie\n",
    "    for i in range(0,len(movie_score)):     #iterating through each rating\n",
    "        if movie_score[i] > 0:              #if its not a zero\n",
    "            count=count+1                   #count it in the number of ratings\n",
    "            sum_m = sum_m + movie_score[i]  #add the value to the running total\n",
    "            i=i+1                           #move the counter forward\n",
    "    avg=sum_m/count                         #calculate the average for this column\n",
    "    avgratings.append(avg)                  #save the average to the list\n",
    "    vote_count.append(count)                #save the total number of ratings\n",
    "    score.append(sum_m)                     #save the scores (just to confirm the math is right)\n",
    "    count=0                                 #reinitialize the variables to start over\n",
    "    sum_m=0\n",
    "    i=0"
   ]
  },
  {
   "cell_type": "code",
   "execution_count": 5,
   "id": "33bfb660",
   "metadata": {},
   "outputs": [],
   "source": [
    "#STEP 5: TURN THE EXISTING LISTS INTO ARRAYS\n",
    "\n",
    "#convert the avg_rating list to an array\n",
    "avg_rating_array = np.array(avgratings, dtype=object)\n",
    "vote_count_array = np.array(vote_count, dtype=int)\n",
    "\n",
    "#vote_count_array "
   ]
  },
  {
   "cell_type": "code",
   "execution_count": 6,
   "id": "3998260e",
   "metadata": {},
   "outputs": [],
   "source": [
    "#STEP 6: REMOVE THE \"movie_names\" LABEL FOR CONVENIENCE\n",
    "\n",
    "#delete the string \"movie_names\" name from movies list for convenience\n",
    "del movie_titles_list[0]\n",
    "\n",
    "titles_only=list(movie_titles_list)\n",
    "#titles_only\n",
    "\n",
    "#DO NOT RUN THIS CELL MORE THAN ONCE!!!"
   ]
  },
  {
   "cell_type": "code",
   "execution_count": 7,
   "id": "eb34e7bf",
   "metadata": {},
   "outputs": [],
   "source": [
    "#STEP 7 : CONVERT THE TITLES ONLY LIST TO AN ARRAY\n",
    "\n",
    "#convert titles only to an array:\n",
    "titles = np.array(titles_only)\n",
    "\n",
    "#titles"
   ]
  },
  {
   "cell_type": "code",
   "execution_count": 8,
   "id": "1b2b4fd3",
   "metadata": {},
   "outputs": [],
   "source": [
    "#STEP 8: CREATE AN ARRAY COMBINING THE TITLES AND THE CALCUATED RATINGS\n",
    "\n",
    "#create an array combining the titles and the ratings\n",
    "titles_and_ratings = np.column_stack((titles,avg_rating_array,vote_count_array))\n",
    "\n",
    "#titles_and_ratings"
   ]
  },
  {
   "cell_type": "code",
   "execution_count": 9,
   "id": "e37256d0",
   "metadata": {},
   "outputs": [],
   "source": [
    "#STEP 9: USE ARGSORT TO IDENTIFY THE POSITIONS OF THE MOVIES IF SORTED\n",
    "#SORTED FROM HIGHEST TO LOWEST.\n",
    "\n",
    "index_by_rating = np.argsort(avg_rating_array.astype(float))[::-1]\n",
    "\n",
    "# index_by_rating"
   ]
  },
  {
   "cell_type": "code",
   "execution_count": 10,
   "id": "957717fc",
   "metadata": {},
   "outputs": [
    {
     "data": {
      "text/plain": [
       "[['The Last Goze', 5.0, 2, 48],\n",
       " [\"Howl's Moving Castle\", 4.631578947368421, 19, 16],\n",
       " ['Everything Everywhere All at Once', 4.529411764705882, 17, 9],\n",
       " ['Jane B. par Agnès V.', 4.5, 2, 21],\n",
       " ['Parasite', 4.379310344827586, 29, 34],\n",
       " ['Encanto', 4.363636363636363, 22, 7],\n",
       " ['The Hateful Eight', 4.333333333333333, 9, 47],\n",
       " ['Jeff, Who Lives at Home', 4.333333333333333, 3, 22],\n",
       " ['Pulp Fiction', 4.333333333333333, 21, 36],\n",
       " ['Se7en', 4.1875, 16, 40],\n",
       " ['Harry Potter', 4.176470588235294, 34, 15],\n",
       " ['Fantastic Mr.Fox', 4.153846153846154, 13, 10],\n",
       " ['Pursuit of Happiness', 4.153846153846154, 26, 37],\n",
       " ['The Big Lebowski', 4.153846153846154, 13, 44],\n",
       " ['Inception', 4.147058823529412, 34, 17],\n",
       " ['The Matrix', 4.125, 24, 50],\n",
       " ['King Richard', 4.125, 8, 23],\n",
       " ['Interstellar', 4.068965517241379, 29, 18],\n",
       " ['WALL-E', 4.066666666666666, 30, 60],\n",
       " ['Ratatouille', 4.057142857142857, 35, 38],\n",
       " ['Remember the Titans', 4.0, 13, 39],\n",
       " ['Love Actually', 4.0, 25, 27],\n",
       " ['Thirteen Lives', 4.0, 8, 53],\n",
       " ['Blade Runner', 4.0, 16, 1],\n",
       " ['Mean Girls', 3.9655172413793105, 29, 28],\n",
       " ['Star Wars Episode 5, The Empire Strikes Back', 3.9583333333333335, 24, 42],\n",
       " ['When Harry Met Sally', 3.9285714285714284, 14, 61],\n",
       " ['Isle of Dogs', 3.9, 10, 20],\n",
       " ['Miss Congeniality', 3.9, 20, 31],\n",
       " ['Nope', 3.875, 8, 32],\n",
       " ['Four weddings and a funeral', 3.8666666666666667, 15, 11],\n",
       " ['Enter the Dragon', 3.8333333333333335, 6, 8],\n",
       " ['Top Gun: Maverick', 3.823529411764706, 17, 57],\n",
       " ['Avengers', 3.8125, 32, 0],\n",
       " ['The Devil Wears Prada', 3.8, 25, 45],\n",
       " ['The Parent Trap', 3.76, 25, 51],\n",
       " ['Gladiator', 3.75, 16, 12],\n",
       " ['Guardians of the Galaxy', 3.75, 28, 14],\n",
       " ['Little Women', 3.7333333333333334, 15, 24],\n",
       " ['Lord of the Rings', 3.7333333333333334, 30, 26],\n",
       " ['Definitely, Maybe', 3.7142857142857144, 14, 4],\n",
       " ['The Lobster', 3.7, 10, 49],\n",
       " ['Titanic', 3.6875, 32, 56],\n",
       " [\"Don't Look Up\", 3.6818181818181817, 22, 6],\n",
       " ['Minari', 3.6666666666666665, 6, 29],\n",
       " [\"Vampire's Kiss\", 3.6666666666666665, 6, 59],\n",
       " ['The Gray Man', 3.625, 8, 46],\n",
       " ['Uncharted', 3.5555555555555554, 9, 58],\n",
       " ['Thor', 3.5454545454545454, 22, 54],\n",
       " ['Predator', 3.5384615384615383, 13, 35],\n",
       " ['DC League of Super-Pets', 3.5, 4, 3],\n",
       " ['GoodFellas', 3.5, 12, 13],\n",
       " ['The Princess Bride', 3.5, 16, 52],\n",
       " ['Into the Wild', 3.4615384615384617, 13, 19],\n",
       " ['Spider Man', 3.4482758620689653, 29, 41],\n",
       " ['Minions: The Rise of Gru', 3.4285714285714284, 14, 30],\n",
       " ['Ouija', 3.4166666666666665, 12, 33],\n",
       " ['The Batman (2022)', 3.35, 20, 43],\n",
       " ['Look Both Ways', 3.25, 4, 25],\n",
       " ['Thor: Love and Thunder', 3.05, 20, 55],\n",
       " ['Doctor Strange in the Multiverse of Madness', 3.0416666666666665, 24, 5],\n",
       " ['Compartment Number 6', 1.5, 2, 2]]"
      ]
     },
     "execution_count": 10,
     "metadata": {},
     "output_type": "execute_result"
    }
   ],
   "source": [
    "#STEP 10: CREATE A MASTER LIST OF ALL RELEVANT DATA\n",
    "#including the movie title (0th position)\n",
    "#the average rating (1st position)\n",
    "#number of votes (2nd position)\n",
    "#argsort index number which is the original list position (3rd position)\n",
    "\n",
    "master_list=[]\n",
    "for i in range(0,62):\n",
    "    items=list(titles_and_ratings[index_by_rating[i]])\n",
    "    items.append(index_by_rating[i])\n",
    "    master_list.append(items)\n",
    "    \n",
    "#SHOW THE MASTER LIST\n",
    "master_list"
   ]
  },
  {
   "cell_type": "markdown",
   "id": "d292e655",
   "metadata": {},
   "source": [
    "# ALGORITHM 1(B) \n",
    "\n",
    "For a given user, return the top rated moves that have not yet been watched by the user. If the username is unknown, the program assumes that this is a new yuser who hasn't watched any of the movies and returns the gloabl top five rated movies. "
   ]
  },
  {
   "cell_type": "code",
   "execution_count": 11,
   "id": "ed211928",
   "metadata": {},
   "outputs": [
    {
     "data": {
      "text/plain": [
       "array(['zoya_abdullah', 'ivana_albernas', 'donte_arrivas',\n",
       "       'anjali_bakliwal', 'natalie_chan', 'betty_fekadu', 'scott_fong',\n",
       "       'shubham_gupta', 'mustafa_hameed', 'Erin_Jones', 'joanne_jun',\n",
       "       'paul_kenniston', 'ken_lin', 'wenjing', 'jo_lu', 'TanayMahindru',\n",
       "       'ellis_martin', 'nyah_mattison', 'nmehandru', 'corrin_morgan',\n",
       "       'tarun_mugunthan', 'nereida_navalesca', 'nithin_ravindra',\n",
       "       'dean_rene', 'isidora_rollan', 'grace_roseman', 'Filipe_Santos',\n",
       "       'ssatheesh', 'mia_schneidermartin', 'jakob', 'manasvi_shah',\n",
       "       'ankita_shanbhag', 'chanoot', 'Smith_Courtney', 'gowri_swamy',\n",
       "       'emily_ton', 'drake_white', 'john', 'clara'], dtype=object)"
      ]
     },
     "execution_count": 11,
     "metadata": {},
     "output_type": "execute_result"
    }
   ],
   "source": [
    "#STEP 1: CREATE AND SHOW A LIST OF VALID NAME OPTIONS\n",
    "\n",
    "#create a name list\n",
    "name_list=rsheet[:,0]\n",
    "\n",
    "#check the contents of name_list\n",
    "name_list"
   ]
  },
  {
   "cell_type": "code",
   "execution_count": 12,
   "id": "33de7482",
   "metadata": {
    "scrolled": true
   },
   "outputs": [],
   "source": [
    "#STEP 2: COLLECT THE USER'S NAME\n",
    "\n",
    "given_user=str(input(\"Please enter username: \"))"
   ]
  },
  {
   "cell_type": "code",
   "execution_count": 13,
   "id": "da21d6e9",
   "metadata": {},
   "outputs": [
    {
     "name": "stdout",
     "output_type": "stream",
     "text": [
      "19\n"
     ]
    }
   ],
   "source": [
    "#STEP 3: FIND THEIR PLACE IN THE LIST OF NAMES TO PULL THEIR ROW OF RATINGS\n",
    "\n",
    "#create loop to find their place in list\n",
    "place = 0\n",
    "for i in range(0,len(name_list)):\n",
    "    if given_user == name_list[i]:\n",
    "        break\n",
    "    else:\n",
    "        place = place + 1\n",
    "        \n",
    "print(place)\n",
    "# IF THE USER'S NAME IS IN THE LIST, THEY WILL HAVE A PLACE VALUE\n",
    "# USERNAMES NOT FOUND WILL HAVE A DEFAULT PLACE VALUE OF 39."
   ]
  },
  {
   "cell_type": "code",
   "execution_count": 14,
   "id": "ca68a2b7",
   "metadata": {},
   "outputs": [
    {
     "data": {
      "text/plain": [
       "array(['corrin_morgan', 3, 0, 0, 0, 0, 3, 0, 5, 4, 5, 0, 0, 0, 2, 3, 4, 0,\n",
       "       3, 0, 0, 0, 0, 0, 4, 0, 0, 2, 0, 5, 0, 0, 4, 3, 3, 5, 4, 5, 4, 4,\n",
       "       0, 4, 4, 4, 4, 0, 0, 3, 4, 0, 0, 0, 4, 0, 0, 3, 3, 3, 0, 3, 0, 3,\n",
       "       0], dtype=object)"
      ]
     },
     "execution_count": 14,
     "metadata": {},
     "output_type": "execute_result"
    }
   ],
   "source": [
    "#STEP 4: USING THEIR PLACE NUMBER, PULL THEIR RATINGS\n",
    "\n",
    "if place < 39:\n",
    "    personalized_list = rsheet[place]\n",
    "else:     #This creates a default empty list for users not found\n",
    "    personalized_list = list([0]*63)\n",
    "    personalized_list[0] = given_user\n",
    "    personalized_list = np.array(personalized_list, dtype=object)\n",
    "    \n",
    "#show the personalized list to confirm it's correct\n",
    "personalized_list"
   ]
  },
  {
   "cell_type": "code",
   "execution_count": 15,
   "id": "b06f0d6a",
   "metadata": {},
   "outputs": [],
   "source": [
    "#STEP 5: FIND THE USER'S UNWATCHED MOVIES\n",
    "\n",
    "position = -2                           #Starting at -2 is to account for iterating outside of the IF statement\n",
    "unseen_movies = []                      #It also accounts for skipping the name in the zeroth position\n",
    "for i in range(0,63):\n",
    "    position = position + 1             #putting the position variable here increments it first\n",
    "    if personalized_list[i] == 0:\n",
    "        unseen_movies.append(position)\n",
    "        \n",
    "#it's weird but it works. lol. \n",
    "#unseen_movies "
   ]
  },
  {
   "cell_type": "code",
   "execution_count": 16,
   "id": "85b9b460",
   "metadata": {},
   "outputs": [
    {
     "name": "stdout",
     "output_type": "stream",
     "text": [
      "User Name: corrin_morgan\n",
      "Number of movies not yet watched by corrin_morgan : 30\n",
      "Recommendations for corrin_morgan using Algorithm 1:\n",
      "1. 'The Last Goze',    Rating: 5.0   (2 ratings)\n",
      "2. 'Howl's Moving Castle',    Rating: 4.632   (19 ratings)\n",
      "3. 'Jane B. par Agnès V.',    Rating: 4.5   (2 ratings)\n",
      "4. 'Jeff, Who Lives at Home',    Rating: 4.333   (3 ratings)\n",
      "5. 'Fantastic Mr.Fox',    Rating: 4.154   (13 ratings)\n"
     ]
    }
   ],
   "source": [
    "#STEP 6: PRINT THE ALGORITHM 1 RESULTS:\n",
    "\n",
    "#Name of the user:\n",
    "print(\"User Name:\",given_user)\n",
    "\n",
    "#Number of movies watched:\n",
    "print(\"Number of movies not yet watched by\",given_user,\":\", len(unseen_movies))\n",
    "\n",
    "#List of recommended movies\n",
    "print(\"Recommendations for\",given_user,\"using Algorithm 1:\")\n",
    "count=0                 #numbers the recommendation list\n",
    "for i in range(0,62):\n",
    "    x=master_list[i][3]\n",
    "    if x in unseen_movies:\n",
    "        count=count+1\n",
    "        print(str(count)+\". '\"+str(master_list[i][0])+\"',    Rating: \"+str(round(master_list[i][1],3))+\"   (\"+str(master_list[i][2])+\" ratings)\")\n",
    "        if count == 5:\n",
    "            break"
   ]
  },
  {
   "cell_type": "markdown",
   "id": "4a69e692",
   "metadata": {},
   "source": [
    "# QUESTION 2\n",
    "Q2. (2 points) Design a movie soul-mate algorithm. Provide a brief description of your algorithm for finding the movie soul-mate for a given user, including the metric you compute for the similarity or distance between users. Provide a pseudo-code of your algorithm."
   ]
  },
  {
   "cell_type": "markdown",
   "id": "5bf98c7e",
   "metadata": {},
   "source": [
    "### PSEUDO-CODE:\n",
    "The algorithm works on a simple point system. It will pull the list of the input user's ratings and keep a running total for the number of movies that the users have rated exactly the same. This is called the \"great minds\" score. The great minds score is then normalized to create a fair metric for how similar the two users are. Also, users will lose points for having dissimilar tastes (but it will be less points than the great minds score. The breakdown is as follows:\n",
    "\n",
    "1. If the users have both seen the movie and rated it the exact same score: 10 points\n",
    "2. If the users have both seen the movie and rated with more than three points difference: -5 points (for instance: John gave it a five but Clara gave it a 2)\n",
    "\n",
    "The goal with the scoring system is to focus on the matches with the higher scores being better. Normalizing the data will hopefully account for each user watching a different number of movies. \n",
    "\n",
    "There is no general method or reasoning behind the use of 10 points and -5 points. It is simply to make it easier for us to notice any errors in the code without having to manually calculate the scores. \n",
    "\n",
    "For calculating the distance, we show the normalized score for the user. The closer to one (the own user's score value) the better."
   ]
  },
  {
   "cell_type": "markdown",
   "id": "7d64d9b8",
   "metadata": {},
   "source": [
    "# QUESTION 3\n",
    "Q3. (5 points) Implement the movie recommendation function using Algorithm 2 and your soul-mate algorithm. The function reads input data from two files: movies.csv and ratings.csv, and for a given user, it will print the number of movies not yet watched by the user. Next, it will print the username of the ‘movie soul-mate’ and their distance. It will then return a ranked list of the top five movies not yet watched by the user, ranked by the soul-mate’s rating (first) and the overall average rating (second).\n",
    "\n",
    "If the user has fewer than five unwatched movies, or if the soul-mate has rated fewer than five movies that are unwatched by the user, then the program will return fewer than five movies. If the username is unknown, the program assumes that this is a new user who hasn’t watched any of the movies, and returns the global top five rated movies."
   ]
  },
  {
   "cell_type": "code",
   "execution_count": 17,
   "id": "aa0ce521",
   "metadata": {},
   "outputs": [
    {
     "data": {
      "text/plain": [
       "array(['zoya_abdullah', 'ivana_albernas', 'donte_arrivas',\n",
       "       'anjali_bakliwal', 'natalie_chan', 'betty_fekadu', 'scott_fong',\n",
       "       'shubham_gupta', 'mustafa_hameed', 'Erin_Jones', 'joanne_jun',\n",
       "       'paul_kenniston', 'ken_lin', 'wenjing', 'jo_lu', 'TanayMahindru',\n",
       "       'ellis_martin', 'nyah_mattison', 'nmehandru', 'corrin_morgan',\n",
       "       'tarun_mugunthan', 'nereida_navalesca', 'nithin_ravindra',\n",
       "       'dean_rene', 'isidora_rollan', 'grace_roseman', 'Filipe_Santos',\n",
       "       'ssatheesh', 'mia_schneidermartin', 'jakob', 'manasvi_shah',\n",
       "       'ankita_shanbhag', 'chanoot', 'Smith_Courtney', 'gowri_swamy',\n",
       "       'emily_ton', 'drake_white', 'john', 'clara'], dtype=object)"
      ]
     },
     "execution_count": 17,
     "metadata": {},
     "output_type": "execute_result"
    }
   ],
   "source": [
    "# STEP 1: SHOW THE LIST OF NAMES TO CHOOSE FROM (easier to copy)\n",
    "\n",
    "name_list"
   ]
  },
  {
   "cell_type": "code",
   "execution_count": 18,
   "id": "d7970e41",
   "metadata": {},
   "outputs": [],
   "source": [
    "#STEP 2: ENTER THE FIRST USER'S NAME\n",
    "\n",
    "your_name=str(input(\"Please enter your username: \"))"
   ]
  },
  {
   "cell_type": "code",
   "execution_count": 19,
   "id": "19bf64b0",
   "metadata": {},
   "outputs": [
    {
     "data": {
      "text/plain": [
       "'corrin_morgan'"
      ]
     },
     "execution_count": 19,
     "metadata": {},
     "output_type": "execute_result"
    }
   ],
   "source": [
    "#STEP 3: FIND THAT USER'S PLACE IN THE LIST TO PULL THEIR RATINGS LIST\n",
    "\n",
    "#calculate place and pull personlized list\n",
    "place = 0\n",
    "for i in range(0,len(name_list)):\n",
    "    if your_name == name_list[i]:\n",
    "        break\n",
    "    else:\n",
    "        place = place + 1\n",
    "\n",
    "#use the place variable to pull their ratings from the full rsheet document\n",
    "your_list = rsheet[place]\n",
    "\n",
    "#confirm that you have the right list by showing the user's name\n",
    "your_list[0]"
   ]
  },
  {
   "cell_type": "code",
   "execution_count": 20,
   "id": "c4aba143",
   "metadata": {},
   "outputs": [
    {
     "data": {
      "text/plain": [
       "[105,\n",
       " 40,\n",
       " 60,\n",
       " 70,\n",
       " 20,\n",
       " 25,\n",
       " 15,\n",
       " 25,\n",
       " 80,\n",
       " 70,\n",
       " 35,\n",
       " 70,\n",
       " 75,\n",
       " 10,\n",
       " 50,\n",
       " 100,\n",
       " 30,\n",
       " 95,\n",
       " 30,\n",
       " 320,\n",
       " 95,\n",
       " 30,\n",
       " 70,\n",
       " 35,\n",
       " 100,\n",
       " 10,\n",
       " 110,\n",
       " 20,\n",
       " 60,\n",
       " 15,\n",
       " 0,\n",
       " 25,\n",
       " 30,\n",
       " 50,\n",
       " 70,\n",
       " 55,\n",
       " 120,\n",
       " 10,\n",
       " 60]"
      ]
     },
     "execution_count": 20,
     "metadata": {},
     "output_type": "execute_result"
    }
   ],
   "source": [
    "#STEP 4: CALCULATE THE SOUL-MATE SCORES AGAINST EACH OTHER USER'S LISTS\n",
    "\n",
    "#initialize match variables:\n",
    "great_minds=0                 #counts their matching score\n",
    "dissim=0                      #counts their dissimilarity score\n",
    "compare=[]                    #empty list for temporarily storing the possible soul-mate's ratings\n",
    "soul_mate_scores=[]           #empty list for appending the scores\n",
    "\n",
    "#calculate the soul-mate scores:\n",
    "for i in range(0,39):\n",
    "    compare=rsheet[i]                          #pull each person's sheet (including the entered users)\n",
    "    for j in range(1,len(compare)): \n",
    "        if your_list[j] > 0:                   #only for the movies you have seen\n",
    "            if your_list[j] == compare[j]:   \n",
    "                great_minds=great_minds+10     #if you match exactly\n",
    "            if compare[j] > 0 and abs(your_list[j] - compare[j]) >= 3:\n",
    "                    dissim = dissim - 5        #if you have differing tastes.\n",
    "        score=great_minds+dissim               #total score\n",
    "    soul_mate_scores.append(score)\n",
    "    #reinitialize the variables for moving to the next user. \n",
    "    great_minds=0\n",
    "    dissim=0\n",
    "    score=0\n",
    "\n",
    "#show the soul_mate_scores\n",
    "soul_mate_scores"
   ]
  },
  {
   "cell_type": "code",
   "execution_count": 21,
   "id": "efab161f",
   "metadata": {},
   "outputs": [
    {
     "data": {
      "text/plain": [
       "[0.328125,\n",
       " 0.125,\n",
       " 0.1875,\n",
       " 0.21875,\n",
       " 0.0625,\n",
       " 0.078125,\n",
       " 0.046875,\n",
       " 0.078125,\n",
       " 0.25,\n",
       " 0.21875,\n",
       " 0.109375,\n",
       " 0.21875,\n",
       " 0.234375,\n",
       " 0.03125,\n",
       " 0.15625,\n",
       " 0.3125,\n",
       " 0.09375,\n",
       " 0.296875,\n",
       " 0.09375,\n",
       " 1.0,\n",
       " 0.296875,\n",
       " 0.09375,\n",
       " 0.21875,\n",
       " 0.109375,\n",
       " 0.3125,\n",
       " 0.03125,\n",
       " 0.34375,\n",
       " 0.0625,\n",
       " 0.1875,\n",
       " 0.046875,\n",
       " 0.0,\n",
       " 0.078125,\n",
       " 0.09375,\n",
       " 0.15625,\n",
       " 0.21875,\n",
       " 0.171875,\n",
       " 0.375,\n",
       " 0.03125,\n",
       " 0.1875]"
      ]
     },
     "execution_count": 21,
     "metadata": {},
     "output_type": "execute_result"
    }
   ],
   "source": [
    "#STEP 5: NORMALIZE THE SOULMATE SCORES:\n",
    "#normalize the dataset: \n",
    "#determine the range of x values (maximum score and minimum score)\n",
    "#subtract the minimum x value from the value of the data point \n",
    "#insert the values into the formula and divide:\n",
    "#normalized score = (score minus minimum score/range of scores. \n",
    "max_score=max(soul_mate_scores)\n",
    "min_score=min(soul_mate_scores)\n",
    "range_score = max_score - min_score\n",
    "sm_score_norm = []\n",
    "for i in range(0,len(soul_mate_scores)):\n",
    "    norm_score = (soul_mate_scores[i]-min_score)/range_score\n",
    "    sm_score_norm.append(norm_score)\n",
    "    \n",
    "\n",
    "#show the normalized scores\n",
    "sm_score_norm"
   ]
  },
  {
   "cell_type": "code",
   "execution_count": 22,
   "id": "66898f7e",
   "metadata": {},
   "outputs": [
    {
     "data": {
      "text/plain": [
       "array([['zoya_abdullah', 0.328125],\n",
       "       ['ivana_albernas', 0.125],\n",
       "       ['donte_arrivas', 0.1875],\n",
       "       ['anjali_bakliwal', 0.21875],\n",
       "       ['natalie_chan', 0.0625],\n",
       "       ['betty_fekadu', 0.078125],\n",
       "       ['scott_fong', 0.046875],\n",
       "       ['shubham_gupta', 0.078125],\n",
       "       ['mustafa_hameed', 0.25],\n",
       "       ['Erin_Jones', 0.21875],\n",
       "       ['joanne_jun', 0.109375],\n",
       "       ['paul_kenniston', 0.21875],\n",
       "       ['ken_lin', 0.234375],\n",
       "       ['wenjing', 0.03125],\n",
       "       ['jo_lu', 0.15625],\n",
       "       ['TanayMahindru', 0.3125],\n",
       "       ['ellis_martin', 0.09375],\n",
       "       ['nyah_mattison', 0.296875],\n",
       "       ['nmehandru', 0.09375],\n",
       "       ['corrin_morgan', 1.0],\n",
       "       ['tarun_mugunthan', 0.296875],\n",
       "       ['nereida_navalesca', 0.09375],\n",
       "       ['nithin_ravindra', 0.21875],\n",
       "       ['dean_rene', 0.109375],\n",
       "       ['isidora_rollan', 0.3125],\n",
       "       ['grace_roseman', 0.03125],\n",
       "       ['Filipe_Santos', 0.34375],\n",
       "       ['ssatheesh', 0.0625],\n",
       "       ['mia_schneidermartin', 0.1875],\n",
       "       ['jakob', 0.046875],\n",
       "       ['manasvi_shah', 0.0],\n",
       "       ['ankita_shanbhag', 0.078125],\n",
       "       ['chanoot', 0.09375],\n",
       "       ['Smith_Courtney', 0.15625],\n",
       "       ['gowri_swamy', 0.21875],\n",
       "       ['emily_ton', 0.171875],\n",
       "       ['drake_white', 0.375],\n",
       "       ['john', 0.03125],\n",
       "       ['clara', 0.1875]], dtype=object)"
      ]
     },
     "execution_count": 22,
     "metadata": {},
     "output_type": "execute_result"
    }
   ],
   "source": [
    "#STEP 6: CONVERT THAT LIST TO AN ARRAY AND APPEND IT TO THE NAMES\n",
    "\n",
    "#convert the scores to an array\n",
    "sm_scores = np.array(sm_score_norm)\n",
    "\n",
    "#append the scores to the names\n",
    "sm_sheet = np.column_stack((name_list,sm_scores))\n",
    "\n",
    "#view the Soul Mate Sheet (UNSORTED)\n",
    "sm_sheet"
   ]
  },
  {
   "cell_type": "code",
   "execution_count": 23,
   "id": "37033e82",
   "metadata": {},
   "outputs": [],
   "source": [
    "#STEP 7: CALCULATE THE DISTANCE\n",
    "\n",
    "#subtract the normalized score from the perfect score (yours!)\n",
    "distances=[]\n",
    "for i in range(0,39):\n",
    "    distance = (round((sm_sheet[place,1]-sm_sheet[i][1]),4)) #normalized score subtracted from a perfect score (yours)\n",
    "    distances.append(distance)\n",
    "    \n",
    "#distances"
   ]
  },
  {
   "cell_type": "code",
   "execution_count": 24,
   "id": "1accb2c0",
   "metadata": {},
   "outputs": [
    {
     "data": {
      "text/plain": [
       "array([['corrin_morgan', 1.0, 0.0],\n",
       "       ['drake_white', 0.375, 0.625],\n",
       "       ['Filipe_Santos', 0.34375, 0.6562],\n",
       "       ['zoya_abdullah', 0.328125, 0.6719],\n",
       "       ['isidora_rollan', 0.3125, 0.6875],\n",
       "       ['TanayMahindru', 0.3125, 0.6875],\n",
       "       ['nyah_mattison', 0.296875, 0.7031],\n",
       "       ['tarun_mugunthan', 0.296875, 0.7031],\n",
       "       ['mustafa_hameed', 0.25, 0.75],\n",
       "       ['ken_lin', 0.234375, 0.7656],\n",
       "       ['anjali_bakliwal', 0.21875, 0.7812],\n",
       "       ['Erin_Jones', 0.21875, 0.7812],\n",
       "       ['paul_kenniston', 0.21875, 0.7812],\n",
       "       ['nithin_ravindra', 0.21875, 0.7812],\n",
       "       ['gowri_swamy', 0.21875, 0.7812],\n",
       "       ['clara', 0.1875, 0.8125],\n",
       "       ['donte_arrivas', 0.1875, 0.8125],\n",
       "       ['mia_schneidermartin', 0.1875, 0.8125],\n",
       "       ['emily_ton', 0.171875, 0.8281],\n",
       "       ['jo_lu', 0.15625, 0.8438],\n",
       "       ['Smith_Courtney', 0.15625, 0.8438],\n",
       "       ['ivana_albernas', 0.125, 0.875],\n",
       "       ['joanne_jun', 0.109375, 0.8906],\n",
       "       ['dean_rene', 0.109375, 0.8906],\n",
       "       ['ellis_martin', 0.09375, 0.9062],\n",
       "       ['nmehandru', 0.09375, 0.9062],\n",
       "       ['chanoot', 0.09375, 0.9062],\n",
       "       ['nereida_navalesca', 0.09375, 0.9062],\n",
       "       ['ankita_shanbhag', 0.078125, 0.9219],\n",
       "       ['shubham_gupta', 0.078125, 0.9219],\n",
       "       ['betty_fekadu', 0.078125, 0.9219],\n",
       "       ['ssatheesh', 0.0625, 0.9375],\n",
       "       ['natalie_chan', 0.0625, 0.9375],\n",
       "       ['scott_fong', 0.046875, 0.9531],\n",
       "       ['jakob', 0.046875, 0.9531],\n",
       "       ['wenjing', 0.03125, 0.9688],\n",
       "       ['grace_roseman', 0.03125, 0.9688],\n",
       "       ['john', 0.03125, 0.9688],\n",
       "       ['manasvi_shah', 0.0, 1.0]], dtype=object)"
      ]
     },
     "execution_count": 24,
     "metadata": {},
     "output_type": "execute_result"
    }
   ],
   "source": [
    "#STEP 8: TURN THE DISTANCES LIST TO AN ARRAY, APPEND IT AND SORT!\n",
    "\n",
    "# make that list an array and append it to the name list for retrieval purposes\n",
    "dist_array = np.array(distances, dtype=object)\n",
    "\n",
    "#append it to the user name and scores array\n",
    "soul_mate_array = np.column_stack((sm_sheet,dist_array))\n",
    "\n",
    "#sort the array by the closest matches\n",
    "sorted_sm = soul_mate_array[soul_mate_array[:, 1].argsort()][::-1]\n",
    "\n",
    "#show the array of sorted soul mate options.\n",
    "sorted_sm"
   ]
  },
  {
   "cell_type": "code",
   "execution_count": 25,
   "id": "8f185802",
   "metadata": {},
   "outputs": [
    {
     "data": {
      "text/plain": [
       "array(['corrin_morgan', 3, 0, 0, 0, 0, 3, 0, 5, 4, 5, 0, 0, 0, 2, 3, 4, 0,\n",
       "       3, 0, 0, 0, 0, 0, 4, 0, 0, 2, 0, 5, 0, 0, 4, 3, 3, 5, 4, 5, 4, 4,\n",
       "       0, 4, 4, 4, 4, 0, 0, 3, 4, 0, 0, 0, 4, 0, 0, 3, 3, 3, 0, 3, 0, 3,\n",
       "       0], dtype=object)"
      ]
     },
     "execution_count": 25,
     "metadata": {},
     "output_type": "execute_result"
    }
   ],
   "source": [
    "#STEP 9: PULL YOUR (THE ENTERED USER'S) RATINGS LIST\n",
    "\n",
    "your_list = rsheet[place]\n",
    "\n",
    "#show the user's ratings\n",
    "your_list"
   ]
  },
  {
   "cell_type": "code",
   "execution_count": 26,
   "id": "32408c77",
   "metadata": {},
   "outputs": [
    {
     "data": {
      "text/plain": [
       "[1,\n",
       " 2,\n",
       " 3,\n",
       " 4,\n",
       " 6,\n",
       " 10,\n",
       " 11,\n",
       " 12,\n",
       " 16,\n",
       " 18,\n",
       " 19,\n",
       " 20,\n",
       " 21,\n",
       " 22,\n",
       " 24,\n",
       " 25,\n",
       " 27,\n",
       " 29,\n",
       " 30,\n",
       " 39,\n",
       " 44,\n",
       " 45,\n",
       " 48,\n",
       " 49,\n",
       " 50,\n",
       " 52,\n",
       " 53,\n",
       " 57,\n",
       " 59,\n",
       " 61]"
      ]
     },
     "execution_count": 26,
     "metadata": {},
     "output_type": "execute_result"
    }
   ],
   "source": [
    "#STEP 10: GENERATE A LIST WITH POSITIONS OF MOVIES THAT HAVENT BEEN WATCHED\n",
    "\n",
    "position = -2 #accounts for the name. Same as above mentioned.\n",
    "unseen_movies = []\n",
    "for i in range(0,63):\n",
    "    position = position + 1\n",
    "    if your_list[i] == 0:\n",
    "        unseen_movies.append(position)\n",
    "        \n",
    "unseen_movies #it is printing the index of the movie in the list\n",
    "#accounting for the name"
   ]
  },
  {
   "cell_type": "code",
   "execution_count": 27,
   "id": "c5e71bc1",
   "metadata": {},
   "outputs": [
    {
     "data": {
      "text/plain": [
       "3"
      ]
     },
     "execution_count": 27,
     "metadata": {},
     "output_type": "execute_result"
    }
   ],
   "source": [
    "#STEP 11: PULL THE SOUL MATE'S RATINGS LIST\n",
    "place = 0\n",
    "for i in range(0,len(name_list)):\n",
    "    if sorted_sm[1,0] == name_list[i]:\n",
    "        break\n",
    "    else:\n",
    "        place = place + 1\n",
    "\n",
    "sm_list = rsheet[place]\n",
    "sm_list[1]"
   ]
  },
  {
   "cell_type": "code",
   "execution_count": 28,
   "id": "32218b12",
   "metadata": {},
   "outputs": [
    {
     "data": {
      "text/plain": [
       "array([['The Matrix', 5],\n",
       "       ['The Big Lebowski', 5],\n",
       "       ['Isle of Dogs', 5],\n",
       "       [\"Howl's Moving Castle\", 5],\n",
       "       ['Fantastic Mr.Fox', 5],\n",
       "       ['When Harry Met Sally', 4],\n",
       "       ['Interstellar', 4],\n",
       "       ['Blade Runner', 4],\n",
       "       ['Thirteen Lives', 3],\n",
       "       ['Remember the Titans', 3],\n",
       "       ['Love Actually', 3],\n",
       "       ['Little Women', 3],\n",
       "       [\"Don't Look Up\", 2]], dtype=object)"
      ]
     },
     "execution_count": 28,
     "metadata": {},
     "output_type": "execute_result"
    }
   ],
   "source": [
    "#STEP 12: FIND THE MOVIES THEY HAVE WATCHED THAT YOU (THE ENTERED USER) HAVEN'T SEEN\n",
    "\n",
    "sm_movie_rec_titles=[]         #list for the titles\n",
    "sm_movie_rec_scores=[]         #list for the scores\n",
    "\n",
    "for i in range(0,len(sm_list)):\n",
    "    if your_list[i] == 0 and sm_list[i] != 0:\n",
    "            sm_movie_rec_titles.append(mtitles[i])\n",
    "            sm_movie_rec_scores.append(sm_list[i])\n",
    "            \n",
    "#create an array from the lists comparing the two users\n",
    "titles_sm = np.array(sm_movie_rec_titles)\n",
    "scores_sm = np.array(sm_movie_rec_scores, dtype=object)\n",
    "\n",
    "#append the movie titles and the soul mate's scores together\n",
    "sm_titles_scores = np.column_stack((titles_sm,scores_sm))\n",
    "sm_titles_scores\n",
    "            \n",
    "#sort that list by their top rated options\n",
    "sorted_sm_titles = sm_titles_scores[sm_titles_scores[:, 1].argsort()][::-1]\n",
    "\n",
    "#show the movies with the soul-mate's score. \n",
    "sorted_sm_titles\n"
   ]
  },
  {
   "cell_type": "code",
   "execution_count": 29,
   "id": "57eb9707",
   "metadata": {},
   "outputs": [
    {
     "data": {
      "text/plain": [
       "array([['The Matrix', 5, 4.125, 24],\n",
       "       ['The Big Lebowski', 5, 4.153846153846154, 13],\n",
       "       ['Isle of Dogs', 5, 3.9, 10],\n",
       "       [\"Howl's Moving Castle\", 5, 4.631578947368421, 19],\n",
       "       ['Fantastic Mr.Fox', 5, 4.153846153846154, 13],\n",
       "       ['When Harry Met Sally', 4, 3.9285714285714284, 14],\n",
       "       ['Interstellar', 4, 4.068965517241379, 29],\n",
       "       ['Blade Runner', 4, 4.0, 16],\n",
       "       ['Thirteen Lives', 3, 4.0, 8],\n",
       "       ['Remember the Titans', 3, 4.0, 13],\n",
       "       ['Love Actually', 3, 4.0, 25],\n",
       "       ['Little Women', 3, 3.7333333333333334, 15],\n",
       "       [\"Don't Look Up\", 2, 3.6818181818181817, 22]], dtype=object)"
      ]
     },
     "execution_count": 29,
     "metadata": {},
     "output_type": "execute_result"
    }
   ],
   "source": [
    "#STEP 13: FIND THE GLOBAL AVERAGE RATINGS AND NUMBER OF RATINGS \n",
    "#APPEND THEM TO THE SORTED SOUL-MATES MOVIE LIST.\n",
    "\n",
    "#create a list for the global averages for each movie by title\n",
    "global_avg=[]\n",
    "\n",
    "for j in range(0,len(sorted_sm_titles)):\n",
    "    for i in range(0,len(master_list)):\n",
    "        if sorted_sm_titles[j][0] == master_list[i][0]:\n",
    "            global_avg.append(master_list[i][1])  #append the averages to the list\n",
    "\n",
    "#create a list for the number of ratings for each movie by title\n",
    "num_ratings=[]\n",
    "for j in range(0,len(sorted_sm_titles)):\n",
    "    for i in range(0,len(master_list)):\n",
    "        if sorted_sm_titles[j][0] == master_list[i][0]:\n",
    "            num_ratings.append(master_list[i][2]) #append the number of ratings\n",
    "\n",
    "            \n",
    "#turn the lists into arrays and append them all together\n",
    "avg_sm=np.array(global_avg, dtype=object)\n",
    "num_rat=np.array(num_ratings, dtype=object)\n",
    "ssm_titles=np.column_stack((sorted_sm_titles,avg_sm))\n",
    "ssm_titles=np.column_stack((ssm_titles,num_rat))\n",
    "\n",
    "#show the specific soulmate list with titles, their rating, global average rating, and number of ratings total\n",
    "ssm_titles\n"
   ]
  },
  {
   "cell_type": "code",
   "execution_count": 30,
   "id": "6b886203",
   "metadata": {},
   "outputs": [
    {
     "data": {
      "text/plain": [
       "array([ 3,  4,  1,  0,  2,  6,  7,  5, 10,  9,  8, 11, 12])"
      ]
     },
     "execution_count": 30,
     "metadata": {},
     "output_type": "execute_result"
    }
   ],
   "source": [
    "#STEP 14: USE LEXSORT TO ORGANIZE THE LIST BY TWO FACTORS\n",
    "#FACTOR ONE: SOUL MATE'S RATING\n",
    "#FACTOR TWO: GLOBAL AVERAGE RATING\n",
    "\n",
    "t1=[]      #generic list for soul mate's scores\n",
    "\n",
    "for i in range(0,len(ssm_titles)):\n",
    "    t1.append(ssm_titles[i][1])\n",
    "\n",
    "t2=[]      #generic list for global ratings\n",
    "\n",
    "for i in range(0,len(ssm_titles)):\n",
    "    t2.append(ssm_titles[i][2])\n",
    "\n",
    "#lexsort in reverse order (have to use lists)\n",
    "test_sort = np.lexsort((t2,t1))[::-1]\n",
    "test_sort"
   ]
  },
  {
   "cell_type": "code",
   "execution_count": 31,
   "id": "cae2a075",
   "metadata": {
    "scrolled": true
   },
   "outputs": [
    {
     "data": {
      "text/plain": [
       "[array([\"Howl's Moving Castle\", 5, 4.631578947368421, 19], dtype=object),\n",
       " array(['Fantastic Mr.Fox', 5, 4.153846153846154, 13], dtype=object),\n",
       " array(['The Big Lebowski', 5, 4.153846153846154, 13], dtype=object),\n",
       " array(['The Matrix', 5, 4.125, 24], dtype=object),\n",
       " array(['Isle of Dogs', 5, 3.9, 10], dtype=object),\n",
       " array(['Interstellar', 4, 4.068965517241379, 29], dtype=object),\n",
       " array(['Blade Runner', 4, 4.0, 16], dtype=object),\n",
       " array(['When Harry Met Sally', 4, 3.9285714285714284, 14], dtype=object),\n",
       " array(['Love Actually', 3, 4.0, 25], dtype=object),\n",
       " array(['Remember the Titans', 3, 4.0, 13], dtype=object),\n",
       " array(['Thirteen Lives', 3, 4.0, 8], dtype=object),\n",
       " array(['Little Women', 3, 3.7333333333333334, 15], dtype=object),\n",
       " array([\"Don't Look Up\", 2, 3.6818181818181817, 22], dtype=object)]"
      ]
     },
     "execution_count": 31,
     "metadata": {},
     "output_type": "execute_result"
    }
   ],
   "source": [
    "#STEP 15: CREATE THE FINAL SORTED SOUL MATE RECOMMENDATION LIST\n",
    "\n",
    "final_rec_list=[]\n",
    "for i in range(0,len(test_sort)):\n",
    "    final_rec_list.append(ssm_titles[test_sort[i]])\n",
    "    \n",
    "final_rec_list"
   ]
  },
  {
   "cell_type": "code",
   "execution_count": 32,
   "id": "cc68f35d",
   "metadata": {},
   "outputs": [
    {
     "name": "stdout",
     "output_type": "stream",
     "text": [
      "Number of movies not yet watched by corrin_morgan : 30\n",
      "corrin_morgan 's movie soul-mate is: drake_white (distance: 0.625 )\n",
      "Recommendations for corrin_morgan using Algorithm 2:\n",
      "1 . Howl's Moving Castle , 4.632 ( 19 ratings); soul-mate's rating: 5\n",
      "2 . Fantastic Mr.Fox , 4.154 ( 13 ratings); soul-mate's rating: 5\n",
      "3 . The Big Lebowski , 4.154 ( 13 ratings); soul-mate's rating: 5\n",
      "4 . The Matrix , 4.125 ( 24 ratings); soul-mate's rating: 5\n",
      "5 . Isle of Dogs , 3.9 ( 10 ratings); soul-mate's rating: 5\n"
     ]
    }
   ],
   "source": [
    "#STEP 16: PRINT ALGORITHM 2 RESULTS\n",
    "\n",
    "print(\"Number of movies not yet watched by\",your_name,\":\",len(unseen_movies))\n",
    "print(your_name,\"'s movie soul-mate is:\",sorted_sm[1,0],\"(distance:\",round(sorted_sm[1,2],4),\")\")\n",
    "print(\"Recommendations for\",your_name,\"using Algorithm 2:\")\n",
    "\n",
    "for i in range(0,5):\n",
    "    print(i+1,\".\",final_rec_list[i][0],\",\",round(final_rec_list[i][2],3),\"(\",final_rec_list[i][3],\"ratings); soul-mate's rating:\",final_rec_list[i][1])\n"
   ]
  },
  {
   "cell_type": "markdown",
   "id": "f39f07e0",
   "metadata": {},
   "source": [
    "# QUESTION 4\n",
    "Q4. Evaluation (1 point) Compare and contrast the recommendations made by the two algorithms. Do you think your soul-mate algorithm worked well?"
   ]
  },
  {
   "cell_type": "markdown",
   "id": "61346915",
   "metadata": {},
   "source": [
    "<span style=\"color:navy\"> RESPONSE: In comparing the recommendations made by the two algorithms, it is clear that there are various factors that impact the results. In the first algorithm, movies with fewer ratings that received higher scores were brought to the top. Because the scores were not normalized in a way that accounted for the range in the number of ratings, some of the more popular movies received lower average scores and were not recommended. For the second algorithm, we tried to normalize the data based on the scores but there are clear issues with it. Instead of calculating the distance in a machine learning context, we used a simple tally system. The issue is that for users who have watched a lot of movies, it was easier for them to move to rack up points with other users. Normalizing the scores helped a bit but not by much. It also did not account for users that watch very few movies. Although it is not a perfect algorithm, it worked enough to provide some pretty cool movie recommendations. </span>"
   ]
  },
  {
   "cell_type": "markdown",
   "id": "34e07024",
   "metadata": {},
   "source": [
    "# QUESTION 5\n",
    "Q5. (1 point) What did you think about your experience with pair programming? Was it easy or difficult to switch roles on a regular basis? What were some challenges that you faced, if any? "
   ]
  },
  {
   "cell_type": "markdown",
   "id": "74372445",
   "metadata": {},
   "source": [
    "<span style=\"color:navy\">RESPONSE: Pair programming was very difficult. We had drastically different approaches to the assignment which made moving forward with each step very hard. There were also issues with scheduling time to work together on the assignment. Overall, pair programming is probably easier when two people with extensive knowledge of the programming language are able to work together. As relative beginners, we both had to learn as we went which put our communication to the test. </span>"
   ]
  },
  {
   "cell_type": "code",
   "execution_count": null,
   "id": "c661b04b",
   "metadata": {},
   "outputs": [],
   "source": []
  }
 ],
 "metadata": {
  "kernelspec": {
   "display_name": "Python 3.10.6 64-bit",
   "language": "python",
   "name": "python3"
  },
  "language_info": {
   "codemirror_mode": {
    "name": "ipython",
    "version": 3
   },
   "file_extension": ".py",
   "mimetype": "text/x-python",
   "name": "python",
   "nbconvert_exporter": "python",
   "pygments_lexer": "ipython3",
   "version": "3.10.6"
  },
  "vscode": {
   "interpreter": {
    "hash": "aee8b7b246df8f9039afb4144a1f6fd8d2ca17a180786b69acc140d282b71a49"
   }
  }
 },
 "nbformat": 4,
 "nbformat_minor": 5
}
