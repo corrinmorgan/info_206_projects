{
 "cells": [
  {
   "cell_type": "markdown",
   "id": "65668ad0",
   "metadata": {},
   "source": [
    "Note: Your solutions may not use any for or while looping constructs.\n",
    "\n"
   ]
  },
  {
   "cell_type": "markdown",
   "id": "0d521db8",
   "metadata": {},
   "source": [
    "Q1. Write a recursive function SumOdd that takes as input a list of integers and returns the sum of all odd numbers in the list. If the list is empty, return 0 (hint: this is your base case). Call the function with some sample inputs to demonstrate its correct operation."
   ]
  },
  {
   "cell_type": "code",
   "execution_count": 2,
   "id": "8869f5af",
   "metadata": {},
   "outputs": [],
   "source": [
    "def SumOdd(x):\n",
    "    #base case: if the list is empty, return 0\n",
    "    sum = 0 \n",
    "    if x==[]:\n",
    "        return sum\n",
    "    \n",
    "    #recursive case: if it's not divisible by 2 (odd), \n",
    "    #take that value and add it to the sum odd\n",
    "    # of the rest of the list\n",
    "    if x[0]%2 != 0:\n",
    "        sum = x[0] + SumOdd(x[1:])\n",
    "        \n",
    "    #if it is divisible by 2 (even),\n",
    "    #add zero and do the sum odd of the rest of the list\n",
    "    else:\n",
    "        sum= 0 + SumOdd(x[1:])\n",
    "        \n",
    "    #return the value\n",
    "    return sum"
   ]
  },
  {
   "cell_type": "code",
   "execution_count": 3,
   "id": "a7bdccc2",
   "metadata": {},
   "outputs": [
    {
     "data": {
      "text/plain": [
       "36"
      ]
     },
     "execution_count": 3,
     "metadata": {},
     "output_type": "execute_result"
    }
   ],
   "source": [
    "x=[1,2,3,4,5,6,7,8,9,10,11,12] #all integers 1-12\n",
    "SumOdd(x)"
   ]
  },
  {
   "cell_type": "code",
   "execution_count": 73,
   "id": "8aac44f9",
   "metadata": {},
   "outputs": [
    {
     "data": {
      "text/plain": [
       "0"
      ]
     },
     "execution_count": 73,
     "metadata": {},
     "output_type": "execute_result"
    }
   ],
   "source": [
    "x=[2,4,6,8,10,12,14,16,18] #all Even Numbers 2-18\n",
    "SumOdd(x)"
   ]
  },
  {
   "cell_type": "code",
   "execution_count": 74,
   "id": "3e334b9b",
   "metadata": {},
   "outputs": [
    {
     "data": {
      "text/plain": [
       "49"
      ]
     },
     "execution_count": 74,
     "metadata": {},
     "output_type": "execute_result"
    }
   ],
   "source": [
    "x=[1,3,5,7,9,11,13] #all odd numbers 1-13\n",
    "SumOdd(x)"
   ]
  },
  {
   "cell_type": "code",
   "execution_count": 76,
   "id": "376a3d76",
   "metadata": {},
   "outputs": [
    {
     "data": {
      "text/plain": [
       "49"
      ]
     },
     "execution_count": 76,
     "metadata": {},
     "output_type": "execute_result"
    }
   ],
   "source": [
    "x=[1,2,3,5,7,9,11,13] #all odd numbers 1-13 with 2 included\n",
    "SumOdd(x)"
   ]
  },
  {
   "cell_type": "code",
   "execution_count": 75,
   "id": "1ab12ee7",
   "metadata": {},
   "outputs": [
    {
     "data": {
      "text/plain": [
       "3"
      ]
     },
     "execution_count": 75,
     "metadata": {},
     "output_type": "execute_result"
    }
   ],
   "source": [
    "x=[2,3,4,6,8,10,12,14,16,18] #all Even Numbers 2-18 with 3 included\n",
    "SumOdd(x)"
   ]
  },
  {
   "cell_type": "markdown",
   "id": "a92c0a24",
   "metadata": {},
   "source": [
    "Q2. Write a recursive function IsPalindrome that takes as input a string and returns True if it is a palindrome and False if it is not. A string of length 0 or 1 is a palindrome. A string of length greater than 1 is a palindrome if the first and last character are the same, the second and second to last character are the same, etc. Call the function with some sample inputs to demonstrate its correct operation."
   ]
  },
  {
   "cell_type": "code",
   "execution_count": 46,
   "id": "a9a46621",
   "metadata": {},
   "outputs": [],
   "source": [
    "def IsPalindrome(word):\n",
    "    #base case: if length of the word is less than or equal to one,\n",
    "    #return True\n",
    "    if len(word)<=1:\n",
    "        return True\n",
    "\n",
    "    #recursive case: if the first value equals the last value,\n",
    "    #redefine the word as the same string without the\n",
    "    #first or last letter. \n",
    "    else:\n",
    "        if word[0] == word[-1]:\n",
    "            word = word[1:-1]\n",
    "            return IsPalindrome(word)\n",
    "        else:\n",
    "            return False\n",
    "        \n",
    "    #If it goes through the if and the else statement and doesnt break\n",
    "    #The word has to have been larger than one and is a palindrome\n",
    "    #return True"
   ]
  },
  {
   "cell_type": "code",
   "execution_count": 47,
   "id": "efc00adc",
   "metadata": {},
   "outputs": [
    {
     "name": "stdout",
     "output_type": "stream",
     "text": [
      "True\n"
     ]
    }
   ],
   "source": [
    "x = IsPalindrome(\"RACECAR\")\n",
    "print(x)"
   ]
  },
  {
   "cell_type": "code",
   "execution_count": 48,
   "id": "52112fb1",
   "metadata": {},
   "outputs": [
    {
     "name": "stdout",
     "output_type": "stream",
     "text": [
      "False\n"
     ]
    }
   ],
   "source": [
    "x = IsPalindrome(\"PLATYPUS\")\n",
    "print(x)"
   ]
  },
  {
   "cell_type": "code",
   "execution_count": 49,
   "id": "0d9856ef",
   "metadata": {},
   "outputs": [
    {
     "name": "stdout",
     "output_type": "stream",
     "text": [
      "True\n"
     ]
    }
   ],
   "source": [
    "x = IsPalindrome(\"MOM\")\n",
    "print(x)"
   ]
  },
  {
   "cell_type": "code",
   "execution_count": 50,
   "id": "3d50d4fd",
   "metadata": {},
   "outputs": [
    {
     "name": "stdout",
     "output_type": "stream",
     "text": [
      "False\n"
     ]
    }
   ],
   "source": [
    "x = IsPalindrome(\"MOMMY\")\n",
    "print(x)"
   ]
  },
  {
   "cell_type": "code",
   "execution_count": 51,
   "id": "c6a01b2e",
   "metadata": {},
   "outputs": [
    {
     "name": "stdout",
     "output_type": "stream",
     "text": [
      "True\n"
     ]
    }
   ],
   "source": [
    "x = IsPalindrome(\"M\")\n",
    "print(x)"
   ]
  },
  {
   "cell_type": "code",
   "execution_count": 52,
   "id": "c7a403f8",
   "metadata": {},
   "outputs": [
    {
     "name": "stdout",
     "output_type": "stream",
     "text": [
      "False\n"
     ]
    }
   ],
   "source": [
    "x = IsPalindrome(\"MEARM\")\n",
    "print(x)"
   ]
  },
  {
   "cell_type": "code",
   "execution_count": 53,
   "id": "10d3951e",
   "metadata": {},
   "outputs": [
    {
     "name": "stdout",
     "output_type": "stream",
     "text": [
      "True\n"
     ]
    }
   ],
   "source": [
    "word = \"racecar\"\n",
    "x = list(word)\n",
    "if x[0] == x[-1]:\n",
    "    x=x[1:-1]\n",
    "    x=IsPalindrome(x)\n",
    "    \n",
    "print(x)"
   ]
  },
  {
   "cell_type": "code",
   "execution_count": null,
   "id": "365319b1",
   "metadata": {},
   "outputs": [],
   "source": []
  }
 ],
 "metadata": {
  "kernelspec": {
   "display_name": "Python 3 (ipykernel)",
   "language": "python",
   "name": "python3"
  },
  "language_info": {
   "codemirror_mode": {
    "name": "ipython",
    "version": 3
   },
   "file_extension": ".py",
   "mimetype": "text/x-python",
   "name": "python",
   "nbconvert_exporter": "python",
   "pygments_lexer": "ipython3",
   "version": "3.10.6"
  },
  "vscode": {
   "interpreter": {
    "hash": "aee8b7b246df8f9039afb4144a1f6fd8d2ca17a180786b69acc140d282b71a49"
   }
  }
 },
 "nbformat": 4,
 "nbformat_minor": 5
}
