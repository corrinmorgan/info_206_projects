{
 "cells": [
  {
   "cell_type": "code",
   "execution_count": 2,
   "metadata": {},
   "outputs": [],
   "source": [
    "#Load in the necessary Libraries \n",
    "import numpy as np\n",
    "import matplotlib.pyplot as plt\n",
    "from numpy.linalg import inv\n",
    "import csv\n",
    "import math"
   ]
  },
  {
   "cell_type": "code",
   "execution_count": 3,
   "metadata": {},
   "outputs": [],
   "source": [
    "#Load in the Temperature Data as a list of lists\n",
    "data_file = open(\"B6data.csv\",\"r\")\n",
    "temp_csvdata = csv.reader(data_file)\n",
    "temp_data = []\n",
    "\n",
    "for row in temp_csvdata:\n",
    "    temp_data.append(row)\n",
    "    \n",
    "# movie_titles_list\n",
    "data_file.close()\n",
    "# print(temp_data)"
   ]
  },
  {
   "cell_type": "code",
   "execution_count": 5,
   "metadata": {},
   "outputs": [
    {
     "name": "stdout",
     "output_type": "stream",
     "text": [
      "[1880 1881 1882 1883 1884 1885 1886 1887 1888 1889 1890 1891 1892 1893\n",
      " 1894 1895 1896 1897 1898 1899 1900 1901 1902 1903 1904 1905 1906 1907\n",
      " 1908 1909 1910 1911 1912 1913 1914 1915 1916 1917 1918 1919 1920 1921\n",
      " 1922 1923 1924 1925 1926 1927 1928 1929 1930 1931 1932 1933 1934 1935\n",
      " 1936 1937 1938 1939 1940 1941 1942 1943 1944 1945 1946 1947 1948 1949\n",
      " 1950 1951 1952 1953 1954 1955 1956 1957 1958 1959 1960 1961 1962 1963\n",
      " 1964 1965 1966 1967 1968 1969 1970 1971 1972 1973 1974 1975 1976 1977\n",
      " 1978 1979 1980 1981 1982 1983 1984 1985 1986 1987 1988 1989 1990 1991\n",
      " 1992 1993 1994 1995 1996 1997 1998 1999 2000 2001 2002 2003 2004 2005\n",
      " 2006 2007 2008 2009 2010 2011 2012 2013 2014 2015 2016 2017 2018 2019\n",
      " 2020 2021] [-0.17 -0.09 -0.11 -0.18 -0.28 -0.33 -0.31 -0.36 -0.17 -0.1  -0.35 -0.22\n",
      " -0.27 -0.31 -0.31 -0.23 -0.11 -0.11 -0.27 -0.18 -0.08 -0.16 -0.27 -0.36\n",
      " -0.46 -0.26 -0.22 -0.38 -0.42 -0.48 -0.43 -0.44 -0.36 -0.35 -0.16 -0.14\n",
      " -0.36 -0.46 -0.3  -0.27 -0.27 -0.18 -0.28 -0.27 -0.27 -0.22 -0.1  -0.21\n",
      " -0.2  -0.36 -0.15 -0.09 -0.16 -0.28 -0.12 -0.19 -0.15 -0.02  0.   -0.01\n",
      "  0.13  0.19  0.07  0.09  0.21  0.09 -0.07 -0.03 -0.11 -0.11 -0.17 -0.07\n",
      "  0.01  0.08 -0.13 -0.14 -0.19  0.05  0.06  0.03 -0.03  0.06  0.03  0.05\n",
      " -0.2  -0.11 -0.06 -0.02 -0.08  0.05  0.02 -0.08  0.01  0.16 -0.07 -0.01\n",
      " -0.1   0.18  0.07  0.16  0.26  0.32  0.14  0.31  0.16  0.12  0.18  0.32\n",
      "  0.39  0.27  0.45  0.4   0.22  0.23  0.31  0.44  0.33  0.46  0.61  0.38\n",
      "  0.39  0.53  0.62  0.62  0.53  0.67  0.63  0.66  0.54  0.65  0.72  0.61\n",
      "  0.64  0.67  0.74  0.89  1.01  0.92  0.84  0.97  1.01  0.84]\n"
     ]
    }
   ],
   "source": [
    "#Plot the Temperature Data\n",
    "\n",
    "starting_year = int(temp_data[0][0])\n",
    "\n",
    "#separate out the temperature data like as the x-(years) and y-(temperatures) axes\n",
    "years = []\n",
    "temperatures = []\n",
    "for i in range(0,len(temp_data)):\n",
    "    years.append(int(temp_data[i][0]))\n",
    "    temperatures.append(float(temp_data[i][1]))\n",
    "\n",
    "#create arrays for matrix multiplication\n",
    "\n",
    "x = np.array(years)\n",
    "y = np.array(temperatures)\n",
    "\n",
    "\n",
    "print(x,y)\n"
   ]
  },
  {
   "cell_type": "code",
   "execution_count": 7,
   "metadata": {},
   "outputs": [
    {
     "name": "stdout",
     "output_type": "stream",
     "text": [
      "m = 0.01 b = -14.87\n"
     ]
    }
   ],
   "source": [
    "#calculate slope (a or m) and y-intercept (b)\n",
    "#INSTEAD OF USING a I USED m\n",
    "n = len(x)\n",
    "m = ( np.sum(x*y) - np.sum(y)*np.sum(x)/n ) / ( np.sum(x*x) - np.sum(x)*np.sum(x)/n )\n",
    "b = ( np.sum(y) - m*np.sum(x) )/n\n",
    "print('m = %.2f' % m, 'b = %.2f' % b)\n",
    "# print('m = %.2f' % m)"
   ]
  },
  {
   "cell_type": "code",
   "execution_count": 8,
   "metadata": {},
   "outputs": [
    {
     "data": {
      "image/png": "[encoded data removed]",
      "text/plain": [
       "<Figure size 432x288 with 1 Axes>"
      ]
     },
     "metadata": {
      "needs_background": "light"
     },
     "output_type": "display_data"
    }
   ],
   "source": [
    "#Part 2a - plot the best fit at the polynomial degree of 1 (mx+b)\n",
    "plt.plot(x,y,'bo')\n",
    "\n",
    "xe = np.arange(starting_year,2100)\n",
    "ye = m*xe + b\n",
    "\n",
    "plt.plot(x,y,'bo')\n",
    "plt.plot(xe,ye,'r:')\n",
    "plt.show()"
   ]
  },
  {
   "cell_type": "code",
   "execution_count": 9,
   "metadata": {},
   "outputs": [
    {
     "data": {
      "image/png": "[encoded data removed]",
      "text/plain": [
       "<Figure size 432x288 with 1 Axes>"
      ]
     },
     "metadata": {
      "needs_background": "light"
     },
     "output_type": "display_data"
    },
    {
     "name": "stdout",
     "output_type": "stream",
     "text": [
      "[ 8.77584234e-05 -3.34694145e-01  3.18854932e+02]\n"
     ]
    }
   ],
   "source": [
    "# Part 2b - plot the best fit at a polynomial degree of 2 (ax^2 + bx + c )\n",
    "\n",
    "# your least-squares estimation code here (2 lines)\n",
    "X = np.stack( (np.square(x), x, np.ones(n)), axis=1)\n",
    "u = inv(np.transpose(X)@X)@np.transpose(X)@y\n",
    "\n",
    "# plot data and least-squares fit\n",
    "xp = np.arange(starting_year,2100)\n",
    "yp = u[0]*xp*xp + u[1]*xp + u[2]\n",
    "plt.plot(x,y,'bo') # original data\n",
    "plt.plot( xp, yp, 'r-' ) # second-order polynomial fit\n",
    "plt.show()\n",
    "print(u)"
   ]
  },
  {
   "cell_type": "code",
   "execution_count": 10,
   "metadata": {},
   "outputs": [
    {
     "name": "stdout",
     "output_type": "stream",
     "text": [
      "[  0   1   2   3   4   5   6   7   8   9  10  11  12  13  14  15  16  17\n",
      "  18  19  20  21  22  23  24  25  26  27  28  29  30  31  32  33  34  35\n",
      "  36  37  38  39  40  41  42  43  44  45  46  47  48  49  50  51  52  53\n",
      "  54  55  56  57  58  59  60  61  62  63  64  65  66  67  68  69  70  71\n",
      "  72  73  74  75  76  77  78  79  80  81  82  83  84  85  86  87  88  89\n",
      "  90  91  92  93  94  95  96  97  98  99 100 101 102 103 104 105 106 107\n",
      " 108 109 110 111 112 113 114 115 116 117 118 119 120 121 122 123 124 125\n",
      " 126 127 128 129 130 131 132 133 134 135 136 137 138 139 140 141 142 143\n",
      " 144 145 146 147 148 149 150 151 152 153 154 155 156 157 158 159 160 161\n",
      " 162 163 164 165 166 167 168]\n",
      "The estimated year that the temperature will be 1.5℃ is 2048\n",
      "The estimated year that the temperature will be 2℃ is 2067\n"
     ]
    }
   ],
   "source": [
    "# Part 2c - In what years will the temperature anomaly reach 1.5℃ and 2℃ \n",
    "\n",
    "#find the year years when it's less than or equal to 1.5 degrees celcius\n",
    "values = max(np.where(yp <= 1.5))\n",
    "print(values)\n",
    "year_difference = len(values)-1\n",
    "closest_estimate = starting_year+year_difference\n",
    "print(\"The estimated year that the temperature will be 1.5℃ is \"+str(closest_estimate))\n",
    "\n",
    "#find the year when it's 2 degrees celcius\n",
    "values = max(np.where(yp <= 2))\n",
    "year_difference = len(values)-1\n",
    "closest_estimate = starting_year+year_difference\n",
    "print(\"The estimated year that the temperature will be 2℃ is \"+str(closest_estimate))\n",
    "\n",
    "\n"
   ]
  },
  {
   "cell_type": "code",
   "execution_count": 88,
   "metadata": {},
   "outputs": [
    {
     "name": "stdout",
     "output_type": "stream",
     "text": [
      "The estimated year that the temperature will be 1.5℃ is 2038\n",
      "The estimated year that the temperature will be 2℃ is 2051\n"
     ]
    },
    {
     "data": {
      "image/png": "[encoded data removed]",
      "text/plain": [
       "<Figure size 432x288 with 1 Axes>"
      ]
     },
     "metadata": {
      "needs_background": "light"
     },
     "output_type": "display_data"
    }
   ],
   "source": [
    "# Part 2d - Repeat the analysis in parts (b-c) using only data from 1950-2021. \n",
    "\n",
    "starting_year = 1950\n",
    "\n",
    "years = []\n",
    "temperatures = []\n",
    "for i in range(0,len(temp_data)):\n",
    "    if int(temp_data[i][0])>=starting_year:\n",
    "        years.append(int(temp_data[i][0]))\n",
    "        temperatures.append(float(temp_data[i][1]))\n",
    "\n",
    "#create arrays for matrix multiplication\n",
    "\n",
    "x = np.array(years)\n",
    "y = np.array(temperatures)\n",
    "n = len(x)\n",
    "\n",
    "# print(x,y)\n",
    "\n",
    "\n",
    "# your least-squares estimation code here (2 lines)\n",
    "X = np.stack( (np.square(x), x, np.ones(n)), axis=1)\n",
    "u = inv(np.transpose(X)@X)@np.transpose(X)@y\n",
    "\n",
    "# plot data and least-squares fit\n",
    "xp = np.arange(starting_year,2100)\n",
    "yp = u[0]*xp*xp + u[1]*xp + u[2]\n",
    "plt.plot(x,y,'bo') # original data\n",
    "plt.plot( xp, yp, 'r-' ) # second-order polynomial fit\n",
    "# plt.show()\n",
    "# print(u)\n",
    "\n",
    "#find the year years when it's less than or equal to 1.5 degrees celcius\n",
    "values = max(np.where(yp <= 1.5))\n",
    "year_difference = len(values)-1\n",
    "closest_estimate = starting_year+year_difference\n",
    "print(\"The estimated year that the temperature will be 1.5℃ is \"+str(closest_estimate))\n",
    "\n",
    "#find the year when it's 2 degrees celcius\n",
    "values = max(np.where(yp <= 2))\n",
    "year_difference = len(values)-1\n",
    "closest_estimate = starting_year+year_difference\n",
    "print(\"The estimated year that the temperature will be 2℃ is \"+str(closest_estimate))\n",
    "\n"
   ]
  }
 ],
 "metadata": {
  "kernelspec": {
   "display_name": "Python 3.10.6 64-bit",
   "language": "python",
   "name": "python3"
  },
  "language_info": {
   "codemirror_mode": {
    "name": "ipython",
    "version": 3
   },
   "file_extension": ".py",
   "mimetype": "text/x-python",
   "name": "python",
   "nbconvert_exporter": "python",
   "pygments_lexer": "ipython3",
   "version": "3.10.6"
  },
  "orig_nbformat": 4,
  "vscode": {
   "interpreter": {
    "hash": "aee8b7b246df8f9039afb4144a1f6fd8d2ca17a180786b69acc140d282b71a49"
   }
  }
 },
 "nbformat": 4,
 "nbformat_minor": 2
}
