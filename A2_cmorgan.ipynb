{
 "cells": [
  {
   "cell_type": "code",
   "execution_count": null,
   "id": "912a3f0b",
   "metadata": {},
   "outputs": [],
   "source": [
    "# The Runtime Complexity of Bubble Sort is a yucky O(n^2). \n",
    "# The nested loops increase the runtime complexity exponentially.\n",
    "# The multiplicative constants don't matter.\n",
    "\n",
    "def bubble_sort(the_list):\n",
    "    while True:\n",
    "        swaps = 0\n",
    "        for i in range(0,len(the_list)-1):\n",
    "            j=i+1\n",
    "            if the_list[i] > the_list[j]:\n",
    "                the_list[i],the_list[j] = the_list[j], the_list[i]\n",
    "                swaps += 1\n",
    "                i+=1\n",
    "        if swaps == 0:\n",
    "            return the_list"
   ]
  },
  {
   "cell_type": "code",
   "execution_count": null,
   "id": "b61c0cb7",
   "metadata": {},
   "outputs": [],
   "source": [
    "list1 = [5,1,4,2,8]\n",
    "bubble_sort(list1)"
   ]
  },
  {
   "cell_type": "code",
   "execution_count": null,
   "id": "46a59963",
   "metadata": {},
   "outputs": [],
   "source": [
    "list2 = [\"aa\",\"a\",\"a1\",\"bat\",\"baa\",\"ba\",\"b\"]\n",
    "bubble_sort(list2)"
   ]
  },
  {
   "cell_type": "code",
   "execution_count": null,
   "id": "86fa27b8",
   "metadata": {},
   "outputs": [],
   "source": [
    "list3 = [\"5\",\"1\",\"11\",\"3\",\"03\"]\n",
    "bubble_sort(list3)"
   ]
  },
  {
   "cell_type": "code",
   "execution_count": null,
   "id": "bfc06188",
   "metadata": {},
   "outputs": [],
   "source": [
    "from random import randint"
   ]
  },
  {
   "cell_type": "code",
   "execution_count": null,
   "id": "58ed595e",
   "metadata": {},
   "outputs": [],
   "source": [
    "list4=[]\n",
    "\n",
    "for i in range(0,19):\n",
    "    list4.append(randint(0,100))\n",
    "    \n",
    "print(list4)\n",
    "\n",
    "bubble_sort(list4)"
   ]
  },
  {
   "cell_type": "code",
   "execution_count": null,
   "id": "a2bbb682",
   "metadata": {},
   "outputs": [],
   "source": [
    "def binary_search(list,key,left_index,right_index):\n",
    "    if len(list[left_index:right_index]) == 1:\n",
    "        return None\n",
    "    \n",
    "    midpoint = round((left_index + right_index) / 2)\n",
    "    \n",
    "    if key == list[midpoint]:\n",
    "        return midpoint\n",
    "    \n",
    "    elif key < list[midpoint]:\n",
    "        right_index = midpoint\n",
    "        return binary_search(list,key,left_index,right_index)\n",
    "    \n",
    "    elif key > list[midpoint]:\n",
    "        left_index = midpoint\n",
    "        return binary_search(list,key,left_index,right_index)\n",
    "    \n",
    "    \n"
   ]
  },
  {
   "cell_type": "code",
   "execution_count": null,
   "id": "5234527a",
   "metadata": {},
   "outputs": [],
   "source": [
    "the_list = [27, 78, 105, 135, 411, 431, 434, 468, 493, 501, 525, 534, 551, 654, 780]\n",
    "\n",
    "binary_search(the_list,135,0,14)"
   ]
  },
  {
   "cell_type": "code",
   "execution_count": null,
   "id": "64af7423",
   "metadata": {},
   "outputs": [],
   "source": [
    "binary_search(the_list, 500, 0, 14)"
   ]
  },
  {
   "cell_type": "code",
   "execution_count": null,
   "id": "48946658",
   "metadata": {},
   "outputs": [],
   "source": [
    "binary_search(the_list, 135, 2, 12)"
   ]
  },
  {
   "cell_type": "code",
   "execution_count": null,
   "id": "6b53d389",
   "metadata": {},
   "outputs": [],
   "source": [
    "#User Interface\n",
    "\n",
    "def user_interface():\n",
    "    n = int(input(\"Enter the number of elements you want in the list:\"))\n",
    "    the_list=[]\n",
    "    \n",
    "    for i in range(0,n):\n",
    "        the_list.append(randint(0,1000))\n",
    "\n",
    "    the_list.sort()\n",
    "    print(the_list)\n",
    "\n",
    "    while True:\n",
    "        key = input(\"Enter a number to find it's position in this list (if it's there). \\nEnter '?' to print the list. \\nEnter 'q' to quit.\\n\")\n",
    "\n",
    "        if key == 'q':\n",
    "            print(\"Goodbye!\")\n",
    "            break\n",
    "        if key == '?':\n",
    "            print(the_list)\n",
    "        else:\n",
    "            print(\"\\nThe number is in position: \"+str(binary_search(the_list,int(key),0,n)))\n"
   ]
  },
  {
   "cell_type": "code",
   "execution_count": null,
   "id": "cd83dfcb",
   "metadata": {},
   "outputs": [],
   "source": [
    "user_interface()"
   ]
  },
  {
   "cell_type": "code",
   "execution_count": null,
   "id": "76b394d7",
   "metadata": {},
   "outputs": [],
   "source": []
  }
 ],
 "metadata": {
  "kernelspec": {
   "display_name": "Python 3.10.6 64-bit",
   "language": "python",
   "name": "python3"
  },
  "language_info": {
   "codemirror_mode": {
    "name": "ipython",
    "version": 3
   },
   "file_extension": ".py",
   "mimetype": "text/x-python",
   "name": "python",
   "nbconvert_exporter": "python",
   "pygments_lexer": "ipython3",
   "version": "3.10.6"
  },
  "vscode": {
   "interpreter": {
    "hash": "aee8b7b246df8f9039afb4144a1f6fd8d2ca17a180786b69acc140d282b71a49"
   }
  }
 },
 "nbformat": 4,
 "nbformat_minor": 5
}
