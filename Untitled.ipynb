{
 "cells": [
  {
   "cell_type": "code",
   "execution_count": 2,
   "id": "349b30d3",
   "metadata": {},
   "outputs": [],
   "source": [
    "#import the libraries\n",
    "import numpy as np"
   ]
  },
  {
   "cell_type": "code",
   "execution_count": null,
   "id": "5d17441b",
   "metadata": {},
   "outputs": [],
   "source": [
    "#load the data"
   ]
  },
  {
   "cell_type": "code",
   "execution_count": null,
   "id": "6af433aa",
   "metadata": {},
   "outputs": [],
   "source": [
    "#store the data\n",
    "\n",
    "#shows the first three rows of data\n",
    ".head(3)"
   ]
  },
  {
   "cell_type": "code",
   "execution_count": null,
   "id": "e81558f7",
   "metadata": {},
   "outputs": [],
   "source": [
    "#get a count of the number of rows/movies in the dataset and the number of columns\n",
    "tablename.shape"
   ]
  },
  {
   "cell_type": "code",
   "execution_count": null,
   "id": "1f5c9916",
   "metadata": {},
   "outputs": [],
   "source": [
    "#create a list of important columns for the recommendation engine"
   ]
  }
 ],
 "metadata": {
  "kernelspec": {
   "display_name": "Python 3 (ipykernel)",
   "language": "python",
   "name": "python3"
  },
  "language_info": {
   "codemirror_mode": {
    "name": "ipython",
    "version": 3
   },
   "file_extension": ".py",
   "mimetype": "text/x-python",
   "name": "python",
   "nbconvert_exporter": "python",
   "pygments_lexer": "ipython3",
   "version": "3.10.6"
  }
 },
 "nbformat": 4,
 "nbformat_minor": 5
}
