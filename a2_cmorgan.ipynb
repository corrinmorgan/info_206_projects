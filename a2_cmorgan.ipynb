{
 "cells": [
  {
   "cell_type": "code",
   "execution_count": 86,
   "id": "b4c612cf",
   "metadata": {},
   "outputs": [],
   "source": [
    "# Q1. Password Strength Checker\n",
    "\n",
    "# Write a Python function called PasswordCheck that reads a password string as input, \n",
    "# and checks whether it satisfies the following criteria:\n",
    "\n",
    "# Contains at least eight characters\n",
    "# Contains at least one uppercase letter\n",
    "# Contains at least one lowercase letter\n",
    "# Contains at least one number\n",
    "# If all the criteria are satisfied, print a message that the password is strong enough. \n",
    "# Otherwise, print a message that the password is not strong enough, and which criteria/criterion it fails to satisfy.\n",
    "\n",
    "# Call this function using a few password examples to demonstrate its correct operation."
   ]
  },
  {
   "cell_type": "code",
   "execution_count": 87,
   "id": "b211ded2",
   "metadata": {},
   "outputs": [],
   "source": [
    "#define the function\n",
    "def PasswordCheck():\n",
    "    \n",
    "    while True: #This will allow me to enter passwords until the password is strong enough\n",
    "        \n",
    "        #initialize variable defaults as needed\n",
    "        pw = str( input( \"Please Enter Your Password: \" ) ) #save the entered password as a string\n",
    "        num_check = False\n",
    "        case_check = False\n",
    "    \n",
    "        #create variable to check if there is a number in the password\n",
    "        for character in pw:\n",
    "            if character.isdigit():\n",
    "                num_check = True\n",
    "                break\n",
    "    \n",
    "        #for case_check: first check to see if there is at least two letters in the password.\n",
    "    \n",
    "        c = 0 #initialize a counter (c stands for case_check points)\n",
    "        for character in pw:\n",
    "            if c < 2 and character.isalpha():\n",
    "                c = c + 1\n",
    "    \n",
    "        #check to see if the password is mixed case\n",
    "        if not pw.isupper() and not pw.islower():\n",
    "            c = c + 1\n",
    "    \n",
    "        #if there are at least two letters and it is mixed case, c should equal 3.\n",
    "        if c == 3:\n",
    "            case_check = True\n",
    "        else:\n",
    "            case_check = False\n",
    "    \n",
    "        # set necessary criteria using conditional statements\n",
    "        if len(pw) >= 8 and case_check == True and num_check == True:\n",
    "            print(\"The password is strong enough.\")\n",
    "            break #break out of the while loop once the password is strong enough. \n",
    "        \n",
    "        else:\n",
    "            print(\"The password is not strong enough.\")\n",
    "        \n",
    "            #print reasons; can be more than one!\n",
    "            if len(pw) < 8:\n",
    "                print(\"Please use a password with at least eight characters.\")\n",
    "            \n",
    "            if case_check == False:\n",
    "                print(\"Please use a password with at least one uppercase letter and one lowercase letter.\")\n",
    "            \n",
    "            if num_check == False:\n",
    "                print(\"Please include at least one number in your password.\")"
   ]
  },
  {
   "cell_type": "code",
   "execution_count": 88,
   "id": "68171d6a",
   "metadata": {},
   "outputs": [
    {
     "name": "stdout",
     "output_type": "stream",
     "text": [
      "Please Enter Your Password: Password1\n",
      "The password is strong enough.\n"
     ]
    }
   ],
   "source": [
    "#Call The Function\n",
    "PasswordCheck()"
   ]
  },
  {
   "cell_type": "code",
   "execution_count": 89,
   "id": "363239bf",
   "metadata": {},
   "outputs": [],
   "source": [
    "# Q2. Word Count\n",
    "\n",
    "# Write a Python function called WordCount that reads as input a plain-text file, \n",
    "# and returns three values, namely the number of lines, words, and characters in the file. \n",
    "# White space does not count as characters, but punctuation does. \n",
    "# Your code should only read through the input file once. \n",
    "# Call this function and print the three returned values in the following format:\n",
    "\n",
    "# 10 lines; 100 words; 1000 characters\n",
    " \n",
    "\n",
    "# Hint: You know how to read each line in a file as a string. \n",
    "# Given a line L, Python has a built-in command that will generate a d\n",
    "# list of all of the words (separated by spaces) in a string: \n",
    "# W = L.split(), \n",
    "# from which you will be able to count the number of words and characters."
   ]
  },
  {
   "cell_type": "code",
   "execution_count": 44,
   "id": "08582ba6",
   "metadata": {},
   "outputs": [],
   "source": [
    "def WordCount():\n",
    "    \n",
    "    #initialize the variables\n",
    "    line_count = 0\n",
    "    word_count = 0\n",
    "    char_count = 0\n",
    "    \n",
    "    #input the file name (must be saved in the same folder)\n",
    "    file_name = str( input( \"Please enter the text file name: \" ) )\n",
    "    \n",
    "    #open the file in read-only format (r)\n",
    "    in_file = open( file_name, \"r\" )\n",
    "    \n",
    "    #go through each line and iterate the counts\n",
    "    for line in in_file:\n",
    "        \n",
    "        #line counter (without the blank lines)\n",
    "        #if line.strip(): <-- USE THAT TO REMOVE EMPTY LINES FROM THE COUNT.\n",
    "        line_count = line_count + 1 #< If you use that line above, indent this one. \n",
    "                \n",
    "        #word counter; have to use len because line.split() creates a list. len() counts the items in the list\n",
    "        word_count = word_count + len( line.split() )\n",
    "        \n",
    "        #counting the character minus the spaces. \n",
    "        char_count = char_count + len( line ) - line.count(\" \") - line.count(\"\\n\")\n",
    "\n",
    "        \n",
    "    #close the file   \n",
    "    in_file.close()\n",
    "    \n",
    "    #output the counts\n",
    "    print( line_count, \"lines;\", word_count, \"words;\", char_count, \"characters\")"
   ]
  },
  {
   "cell_type": "code",
   "execution_count": 45,
   "id": "39baf5ba",
   "metadata": {},
   "outputs": [
    {
     "name": "stdout",
     "output_type": "stream",
     "text": [
      "Please enter the text file name: DOI.txt\n",
      "133 lines; 1324 words; 6700 characters\n"
     ]
    }
   ],
   "source": [
    "#call the function\n",
    "WordCount()"
   ]
  },
  {
   "cell_type": "code",
   "execution_count": null,
   "id": "f881ba56",
   "metadata": {},
   "outputs": [],
   "source": []
  }
 ],
 "metadata": {
  "kernelspec": {
   "display_name": "Python 3 (ipykernel)",
   "language": "python",
   "name": "python3"
  },
  "language_info": {
   "codemirror_mode": {
    "name": "ipython",
    "version": 3
   },
   "file_extension": ".py",
   "mimetype": "text/x-python",
   "name": "python",
   "nbconvert_exporter": "python",
   "pygments_lexer": "ipython3",
   "version": "3.10.6"
  }
 },
 "nbformat": 4,
 "nbformat_minor": 5
}
