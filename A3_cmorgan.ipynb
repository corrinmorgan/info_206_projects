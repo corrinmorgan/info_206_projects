{
 "cells": [
  {
   "cell_type": "code",
   "execution_count": 1,
   "id": "d1014844",
   "metadata": {},
   "outputs": [],
   "source": [
    "#import the necessary packages\n",
    "\n",
    "import string\n",
    "import time\n",
    "import matplotlib.pyplot as plt"
   ]
  },
  {
   "cell_type": "code",
   "execution_count": 2,
   "id": "7e67dedc",
   "metadata": {},
   "outputs": [],
   "source": [
    "#Read the File (AFINN-111.txt) into a dictionary data structure.\n",
    "\n",
    "afinn_dict = {}\n",
    "file = open(\"afinn-111.txt\",\"r\")\n",
    "\n",
    "for line in file:\n",
    "    data = line.split(\"\\t\")\n",
    "    afinn_dict[data[0]] = data[1].strip()\n",
    "    \n",
    "file.close()\n",
    "# print(afinn_dict)"
   ]
  },
  {
   "cell_type": "code",
   "execution_count": 3,
   "id": "f09445e6",
   "metadata": {},
   "outputs": [
    {
     "name": "stdout",
     "output_type": "stream",
     "text": [
      "just setting up my twttr\n",
      "| SCORE: 0\n",
      "\n",
      "there's a plane in the Hudson. I'm on the ferry going to pick up the people. Crazy.\n",
      "| SCORE: -2\n",
      "\n",
      "Are you ready to celebrate? Well, get ready: We have ICE!!!!! Yes, ICE, *WATER ICE* on Mars! woot!!! Best day ever!!\n",
      "| SCORE: 7\n",
      "\n",
      "Arrested\n",
      "| SCORE: -3\n",
      "\n",
      "HI TWITTERS . THANK YOU FOR A WARM WELCOME. FEELING REALLY 21ST CENTURY .\n",
      "| SCORE: 6\n",
      "\n",
      "Hello Twitterverse! We r now LIVE tweeting from the International Space Station -- the 1st live tweet from Space! :) More soon, send your ?s\n",
      "| SCORE: 0\n",
      "\n",
      "OK, What The Hell Is \"Weird Twitter\"?\n",
      "| SCORE: -6\n",
      "\n",
      "Please retweet this to spread awareness for retweets.\n",
      "| SCORE: 1\n",
      "\n",
      "If only Bradley's arm was longer. Best photo ever. #oscars\n",
      "| SCORE: 3\n",
      "\n",
      "admiring my award winning masterpiece -- super stunning roflcopter tweet ftw woohoo!| SCORE: 31\n",
      "\n"
     ]
    }
   ],
   "source": [
    "#import the tweets, read the sentiment scores of each tweet\n",
    "\n",
    "tweets = open(\"tweets.txt\")       #import the file\n",
    "\n",
    "for line in tweets:\n",
    "    tweet = line.translate(str.maketrans('\\n',' ', string.punctuation)).lower() #remove punctuation and make lowercase\n",
    "    word = tweet.split(\" \") #separate the words on the spaces\n",
    "    score = 0\n",
    "    for i in range(0,len(word)):     #for each tweet\n",
    "        w = str(word[i].strip())     #strip out the word\n",
    "        if w in afinn_dict:          #if the word is in the dictionary\n",
    "#             print(w)                        #print the words that contribute to the score in each tweet\n",
    "            score += int(afinn_dict[w])       #add the dictionary score value to the running score\n",
    "    print(str(line)+\"| SCORE: \"+str(score)+\"\\n\")   #print the tweet and the score\n",
    "        \n",
    "tweets.close()"
   ]
  },
  {
   "cell_type": "markdown",
   "id": "4fbc58fe",
   "metadata": {},
   "source": [
    "# CREATING THE STRATEGY FUNCTIONS"
   ]
  },
  {
   "cell_type": "code",
   "execution_count": 4,
   "id": "dc0223a7",
   "metadata": {},
   "outputs": [],
   "source": [
    "#create dictionarylookup function\n",
    "def dictlookup(filename):\n",
    "    \n",
    "    #open the file\n",
    "    file = open(str(filename))\n",
    "    \n",
    "    #initialize variables\n",
    "    num_words = 0\n",
    "    score = 0\n",
    "    \n",
    "    #start the timer\n",
    "    tstart = time.time()\n",
    "    \n",
    "    #iterate through the file\n",
    "    for line in file:\n",
    "        for word in line.split():\n",
    "            word = word.translate(str.maketrans('','', string.punctuation)).lower()\n",
    "            num_words += 1\n",
    "            if word in afinn_dict:\n",
    "                score += int(afinn_dict[word])\n",
    "    \n",
    "    #stop the timer and calculate elapsed time\n",
    "    tstop = time.time()\n",
    "    elapsed_time = tstop - tstart\n",
    "    \n",
    "    #calculate normalized score\n",
    "    norm_score = score/num_words\n",
    "    \n",
    "    #print outputs\n",
    "    print(\"The number of words is: \"+str(num_words)+\".\\nThe normalized score is: \"+str(norm_score)+\".\")\n",
    "    print(\"The runtime is: \"+ str(elapsed_time) + \" seconds.\" )\n",
    "    \n",
    "    #close file\n",
    "    file.close()"
   ]
  },
  {
   "cell_type": "code",
   "execution_count": 5,
   "id": "68d17032",
   "metadata": {},
   "outputs": [],
   "source": [
    "#create a linearsearch function\n",
    "\n",
    "def linearsearch(filename):\n",
    "    \n",
    "    #open the file\n",
    "    file = open(str(filename))\n",
    "\n",
    "    #create the lists\n",
    "    word_keys = list(afinn_dict.keys())\n",
    "    score_values = list(afinn_dict.values())\n",
    "    \n",
    "    #initialize variables\n",
    "    score = 0\n",
    "    num_words = 0\n",
    "    \n",
    "    #start the timer\n",
    "    tstart = time.time()\n",
    "    \n",
    "    #iterate through the file\n",
    "    for line in file:\n",
    "        for word in line.split():\n",
    "            word = word.translate(str.maketrans('','', string.punctuation)).lower()\n",
    "            num_words += 1\n",
    "            for j in range(len(word_keys)):\n",
    "                if word_keys[j] == word:\n",
    "                    score += int(score_values[j])\n",
    "\n",
    "    #stop the timer and calculate elapsed time\n",
    "    tstop = time.time()\n",
    "    elapsed_time = tstop - tstart\n",
    "    \n",
    "    #calculate normalized score\n",
    "    norm_score = score/num_words\n",
    "    \n",
    "    #print outputs\n",
    "    print(\"The number of words is: \"+str(num_words)+\".\\nThe normalized score is: \"+str(norm_score)+\".\")\n",
    "    print(\"The runtime is: \"+ str(elapsed_time) + \" seconds.\" )\n",
    "    file.close()"
   ]
  },
  {
   "cell_type": "code",
   "execution_count": 6,
   "id": "6e18701d",
   "metadata": {},
   "outputs": [],
   "source": [
    "#import binary search function from A2 and edit it as necessary: \n",
    "\n",
    "def b_search(list,key,left_index,right_index):\n",
    "    if len(list[left_index:right_index]) == 1:\n",
    "        return -1     #edit made\n",
    "    \n",
    "    midpoint = round((left_index + right_index) / 2)\n",
    "    \n",
    "    if key == list[midpoint]:\n",
    "        return midpoint\n",
    "    \n",
    "    elif key < list[midpoint]:\n",
    "        right_index = midpoint\n",
    "        return b_search(list,key,left_index,right_index)\n",
    "    \n",
    "    elif key > list[midpoint]:\n",
    "        left_index = midpoint\n",
    "        return b_search(list,key,left_index,right_index)\n",
    "    "
   ]
  },
  {
   "cell_type": "code",
   "execution_count": 7,
   "id": "9ce2e837",
   "metadata": {},
   "outputs": [],
   "source": [
    "#create the binarysearch function\n",
    "\n",
    "def binarysearch(filename):\n",
    "    \n",
    "    #open the file\n",
    "    file = open(str(filename))\n",
    "\n",
    "    #create the lists\n",
    "    word_keys = list(afinn_dict.keys())\n",
    "    score_values = list(afinn_dict.values()) \n",
    "\n",
    "    #initialize variables\n",
    "    score = 0\n",
    "    num_words = 0\n",
    "    \n",
    "    #start the timer\n",
    "    tstart = time.time()\n",
    "\n",
    "    #iterate throught he file\n",
    "    for line in file:\n",
    "        for word in line.split():\n",
    "            word = word.translate(str.maketrans('','', string.punctuation)).lower()\n",
    "            \n",
    "#             if word in word_keys:      #testing the words contributing to the score and that the output is the index\n",
    "#                 print(word)\n",
    "#                 index = b_search(word_keys,str(word),0, len(word_keys))\n",
    "#                 print(index, score_values[index])\n",
    "            \n",
    "            num_words += 1\n",
    "            index = b_search(word_keys,str(word),0, len(word_keys))\n",
    "            if index >= 0:\n",
    "                score += int(score_values[index])\n",
    "    #stop the timer and calculate elapsed time\n",
    "    tstop = time.time()\n",
    "    elapsed_time = tstop - tstart\n",
    "    \n",
    "    #calculate normalized score\n",
    "    norm_score = score/num_words\n",
    "\n",
    "    #print outputs\n",
    "    print(\"The number of words is: \"+str(num_words)+\".\\nThe normalized score is: \"+str(norm_score)+\".\")\n",
    "    print(\"The runtime is: \"+ str(elapsed_time) + \" seconds.\" )\n",
    "    \n",
    "    #close the file\n",
    "    file.close()"
   ]
  },
  {
   "cell_type": "markdown",
   "id": "6e9cfa34",
   "metadata": {},
   "source": [
    "# TESTING THE STRATEGIES"
   ]
  },
  {
   "cell_type": "code",
   "execution_count": 8,
   "id": "c64923a7",
   "metadata": {},
   "outputs": [
    {
     "name": "stdout",
     "output_type": "stream",
     "text": [
      "Alice in Wonderland Tests\n",
      "\n",
      "Dictionary Lookup: \n",
      "The number of words is: 12763.\n",
      "The normalized score is: 0.0036041682989892657.\n",
      "The runtime is: 0.015991926193237305 seconds.\n",
      "\n",
      "Linear Search: \n",
      "The number of words is: 12763.\n",
      "The normalized score is: 0.0036041682989892657.\n",
      "The runtime is: 0.8866040706634521 seconds.\n",
      "\n",
      "Binary Search: \n",
      "The number of words is: 12763.\n",
      "The normalized score is: 0.0036041682989892657.\n",
      "The runtime is: 0.17938899993896484 seconds.\n"
     ]
    }
   ],
   "source": [
    "#Compare the methods on different tomes:\n",
    "#TOME 1 - ALICE IN WONDERLAND:\n",
    "\n",
    "print(\"Alice in Wonderland Tests\")\n",
    "print(\"\\nDictionary Lookup: \")\n",
    "dictlookup(\"alice.txt\")\n",
    "print(\"\\nLinear Search: \")\n",
    "linearsearch(\"alice.txt\") \n",
    "print(\"\\nBinary Search: \")\n",
    "binarysearch(\"alice.txt\")"
   ]
  },
  {
   "cell_type": "code",
   "execution_count": 9,
   "id": "0142e534",
   "metadata": {},
   "outputs": [
    {
     "name": "stdout",
     "output_type": "stream",
     "text": [
      "Shakespeare Tests\n",
      "\n",
      "Dictionary Lookup: \n",
      "The number of words is: 904061.\n",
      "The normalized score is: 0.013945961610997488.\n",
      "The runtime is: 0.9430820941925049 seconds.\n",
      "\n",
      "Linear Search: \n",
      "The number of words is: 904061.\n",
      "The normalized score is: 0.013945961610997488.\n",
      "The runtime is: 61.401630878448486 seconds.\n",
      "\n",
      "Binary Search: \n",
      "The number of words is: 904061.\n",
      "The normalized score is: 0.013954810571410558.\n",
      "The runtime is: 12.430593013763428 seconds.\n"
     ]
    }
   ],
   "source": [
    "#Compare the methods on different tomes:\n",
    "#TOME 2 - SHAKESPEARE:\n",
    "\n",
    "print(\"Shakespeare Tests\")\n",
    "print(\"\\nDictionary Lookup: \")\n",
    "dictlookup(\"shakespeare.txt\")\n",
    "print(\"\\nLinear Search: \")\n",
    "linearsearch(\"shakespeare.txt\")    #this took my computer a minute... literally\n",
    "print(\"\\nBinary Search: \")\n",
    "binarysearch(\"shakespeare.txt\")\n"
   ]
  },
  {
   "cell_type": "code",
   "execution_count": 11,
   "id": "3ed2e542",
   "metadata": {},
   "outputs": [
    {
     "name": "stdout",
     "output_type": "stream",
     "text": [
      "Les Miserables Tests\n",
      "\n",
      "Dictionary Lookup: \n",
      "The number of words is: 568531.\n",
      "The normalized score is: -0.002736878024241422.\n",
      "The runtime is: 0.6038050651550293 seconds.\n",
      "\n",
      "Linear Search: \n",
      "The number of words is: 568531.\n",
      "The normalized score is: -0.002736878024241422.\n",
      "The runtime is: 39.95845985412598 seconds.\n",
      "\n",
      "Binary Search: \n",
      "The number of words is: 568531.\n",
      "The normalized score is: -0.0026946639673122484.\n",
      "The runtime is: 8.203712940216064 seconds.\n"
     ]
    }
   ],
   "source": [
    "#Compare the methods on different tomes:\n",
    "#TOME 3 - LES MISERABLES:\n",
    "\n",
    "print(\"Les Miserables Tests\")\n",
    "print(\"\\nDictionary Lookup: \")\n",
    "dictlookup(\"les-miserables.txt\")\n",
    "print(\"\\nLinear Search: \")\n",
    "linearsearch(\"les-miserables.txt\") \n",
    "print(\"\\nBinary Search: \")\n",
    "binarysearch(\"les-miserables.txt\")"
   ]
  },
  {
   "cell_type": "code",
   "execution_count": 12,
   "id": "8618ece6",
   "metadata": {},
   "outputs": [
    {
     "name": "stdout",
     "output_type": "stream",
     "text": [
      "Odyssey Tests\n",
      "\n",
      "Dictionary Lookup: \n",
      "The number of words is: 123600.\n",
      "The normalized score is: 0.015970873786407765.\n",
      "The runtime is: 0.13231682777404785 seconds.\n",
      "\n",
      "Linear Search: \n",
      "The number of words is: 123600.\n",
      "The normalized score is: 0.015970873786407765.\n",
      "The runtime is: 8.851015090942383 seconds.\n",
      "\n",
      "Binary Search: \n",
      "The number of words is: 123600.\n",
      "The normalized score is: 0.015970873786407765.\n",
      "The runtime is: 1.7753469944000244 seconds.\n"
     ]
    }
   ],
   "source": [
    "#Compare the methods on different tomes:\n",
    "#TOME 4 - ODYSSEY:\n",
    "\n",
    "print(\"Odyssey Tests\")\n",
    "print(\"\\nDictionary Lookup: \")\n",
    "dictlookup(\"odyssey.txt\")\n",
    "print(\"\\nLinear Search: \")\n",
    "linearsearch(\"odyssey.txt\")\n",
    "print(\"\\nBinary Search: \")\n",
    "binarysearch(\"odyssey.txt\")"
   ]
  },
  {
   "cell_type": "markdown",
   "id": "5860323e",
   "metadata": {},
   "source": [
    "# WRAP UP:\n",
    "\n",
    "#### Report the Normalized Sentiment Scores:\n",
    "\n",
    "Alice in Wonderland:\n",
    "0.0036\n",
    "\n",
    "Shakespeare:\n",
    "0.0139\n",
    "\n",
    "Les Miserables:\n",
    "-0.0027\n",
    "\n",
    "Odyssey:\n",
    "0.0159"
   ]
  },
  {
   "cell_type": "code",
   "execution_count": 13,
   "id": "65f212fd",
   "metadata": {},
   "outputs": [
    {
     "data": {
      "image/png": "[encoded data removed]",
      "text/plain": [
       "<Figure size 432x288 with 1 Axes>"
      ]
     },
     "metadata": {
      "needs_background": "light"
     },
     "output_type": "display_data"
    }
   ],
   "source": [
    "#Plotting the Comparisons\n",
    "\n",
    "#The runtimes may be subject to change \n",
    "#These values are based on my last run of the code\n",
    "#The order is Alice, Shakespeare, Les Miserables, and Odyssey\n",
    "\n",
    "#SAMPLE DATA\n",
    "tome_length = [12763, 904061, 568531, 123600]\n",
    "dictionary_runtimes=[0.019954919815063477,0.9094736576080322,0.5952470302581787,0.1266031265258789]\n",
    "linear_runtimes=[0.8522942066192627,59.83646106719971,37.46525001525879,8.32260513305664]\n",
    "binary_runtimes=[0.17502117156982422,12.332908868789673, 7.763751983642578, 1.7814619541168213]\n",
    "\n",
    "x = tome_length\n",
    "y1 = dictionary_runtimes\n",
    "y2 = linear_runtimes\n",
    "y3 = binary_runtimes\n",
    "\n",
    "plt.plot(x,y1, color=\"red\", label = \"dictionary_runtimes\")\n",
    "plt.plot(x,y2, color = \"green\", label = \"linear_runtimes\" )\n",
    "plt.plot(x,y3, color = \"blue\", label = \"binary runtimes\")\n",
    "\n",
    "plt.xlabel(\"Length of the Tome (words)\")\n",
    "plt.ylabel(\"Runtime (seconds)\")\n",
    "plt.title(\"Runtime Comparison by Strategy\")\n",
    "plt.show()"
   ]
  },
  {
   "cell_type": "markdown",
   "id": "36a01f2b",
   "metadata": {},
   "source": [
    "#### Interpret your results:\n",
    "\n",
    "It's clear that the runtime of the dictionary lookup is the fastest. I did not think that the linear runtimes would be so bad but I am glad that we are learning data structures that can improve the runtime of our code. The sentiment scores seem pretty accurate because Les Miserables is one sad book. haha. Dictionaries are the way to go!"
   ]
  },
  {
   "cell_type": "code",
   "execution_count": null,
   "id": "298415b8",
   "metadata": {},
   "outputs": [],
   "source": []
  }
 ],
 "metadata": {
  "kernelspec": {
   "display_name": "Python 3.10.6 64-bit",
   "language": "python",
   "name": "python3"
  },
  "language_info": {
   "codemirror_mode": {
    "name": "ipython",
    "version": 3
   },
   "file_extension": ".py",
   "mimetype": "text/x-python",
   "name": "python",
   "nbconvert_exporter": "python",
   "pygments_lexer": "ipython3",
   "version": "3.10.6"
  },
  "vscode": {
   "interpreter": {
    "hash": "aee8b7b246df8f9039afb4144a1f6fd8d2ca17a180786b69acc140d282b71a49"
   }
  }
 },
 "nbformat": 4,
 "nbformat_minor": 5
}
